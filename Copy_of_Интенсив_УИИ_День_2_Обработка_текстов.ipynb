{
  "cells": [
    {
      "cell_type": "markdown",
      "metadata": {
        "id": "view-in-github",
        "colab_type": "text"
      },
      "source": [
        "<a href=\"https://colab.research.google.com/github/bogomolga/VersionControl_Seminar3/blob/main/Copy_of_%D0%98%D0%BD%D1%82%D0%B5%D0%BD%D1%81%D0%B8%D0%B2_%D0%A3%D0%98%D0%98_%D0%94%D0%B5%D0%BD%D1%8C_2_%D0%9E%D0%B1%D1%80%D0%B0%D0%B1%D0%BE%D1%82%D0%BA%D0%B0_%D1%82%D0%B5%D0%BA%D1%81%D1%82%D0%BE%D0%B2.ipynb\" target=\"_parent\"><img src=\"https://colab.research.google.com/assets/colab-badge.svg\" alt=\"Open In Colab\"/></a>"
      ]
    },
    {
      "cell_type": "code",
      "execution_count": 7,
      "metadata": {
        "id": "aS_8umrxtbLW"
      },
      "outputs": [],
      "source": [
        "#@title Установка модуля УИИ\n",
        "!rm -rf sample_data\n",
        "\n",
        "import seaborn as sns\n",
        "import random\n",
        "import os\n",
        "import numpy as np\n",
        "import tensorflow as tf\n",
        "import gdown\n",
        "from IPython.display import clear_output\n",
        "\n",
        "!pip -q install pymorphy2\n",
        "!pip -q install python-Levenshtein\n",
        "\n",
        "# Установочные параметры\n",
        "sns.set(style='darkgrid') \n",
        "seed_value = 12\n",
        "random.seed(seed_value)\n",
        "np.random.seed(seed_value)\n",
        "tf.random.set_seed(seed_value)\n",
        "if not os.path.exists('/content/IntensiveTerra'):\n",
        "  os.mkdir('/content/IntensiveTerra')\n",
        "os.chdir('/content/IntensiveTerra')\n",
        "\n",
        "# Загрузка модуля\n",
        "gdown.download('https://storage.yandexcloud.net/aiueducation/Intensive/intensivedaytwo.py', None, quiet=True)\n",
        "gdown.download('https://storage.yandexcloud.net/aiueducation/Intensive/tools/check_for_errors.py', None, quiet=True)\n",
        "gdown.download('https://storage.yandexcloud.net/aiueducation/Intensive/tools/dataset.py', None, quiet=True)\n",
        "gdown.download('https://storage.yandexcloud.net/aiueducation/Intensive/tools/text_process.py', None, quiet=True)\n",
        "gdown.download('https://storage.yandexcloud.net/aiueducation/Intensive/tools/квартиры.py', None, quiet=True)\n",
        "gdown.download('https://storage.yandexcloud.net/aiueducation/Intensive/tools/модель.py', None, quiet=True)\n",
        "\n",
        "import intensivedaytwo\n",
        "demo_ai = intensivedaytwo.TerraIntensive()\n",
        "clear_output(wait=True)"
      ]
    },
    {
      "cell_type": "markdown",
      "metadata": {
        "id": "L969NYHJa3U3"
      },
      "source": [
        "## **Классификация отзывов автомобиля Тесла**"
      ]
    },
    {
      "cell_type": "code",
      "execution_count": 2,
      "metadata": {
        "colab": {
          "base_uri": "https://localhost:8080/"
        },
        "id": "AEOO5bIe4k1N",
        "outputId": "b9ce8654-2d1e-44bc-9669-448b767edd1d"
      },
      "outputs": [
        {
          "output_type": "stream",
          "name": "stdout",
          "text": [
            "\u001b[1mЗагрузка датасета\u001b[0m \u001b[92mOk\u001b[0m\n",
            "\u001b[94mИфно:\u001b[0m\n",
            "    Вы скачали базу с отзывами на автомобиль «ТЕСЛА». База содержит 3381 отзыв двух категорий: «Позитивные», «Негативные»\n"
          ]
        }
      ],
      "source": [
        "# Загрузка датасета\n",
        "demo_ai.load_dataset('Отзывы_тесла')"
      ]
    },
    {
      "cell_type": "code",
      "execution_count": 3,
      "metadata": {
        "colab": {
          "base_uri": "https://localhost:8080/"
        },
        "id": "w36x9jt9LJAD",
        "outputId": "52d7d40c-065a-47b3-ac6c-836ada39007b"
      },
      "outputs": [
        {
          "output_type": "stream",
          "name": "stdout",
          "text": [
            "\u001b[1mПримеры:\u001b[0m\n",
            "\n",
            "\u001b[1m\u001b[94mНегативные:\u001b[0m\n",
            "   Очень расстроило плохое качество сборки. Но это ничего, через пару лет традиционные производители авто типа Ауди начнут выпускать электромобили, там с качеством сборки и материалов все будет ОК.\n",
            "   К Тесле интерес ровно до тех пор пока не вышли концепты от Ауди и  Мерседес на электродвигателях\n",
            "   Вас обманули, будущее за нефтью и газом, а мода на машинки на батарейках скоро пройдет.\n",
            "   Машина какая то хлипкая, судя по ютьюбу, зачем такие двери сделали?\n",
            "   И почему то практически все молчат о все тех же родных болячках на старте продаж плохая состыковка деталей корпуса.\n",
            "\n",
            "\u001b[1m\u001b[94mПозитивные:\u001b[0m\n",
            "   Добротный автомобиль. \n",
            "   Едет быстро, тихо, ремонта не требует\n",
            "   На эргономику тоже грех жаловаться – все просто и удобно. Подстаканников достаточно. То же самое можно сказать и о разъемах USB.\n",
            "   Забавно, что Тесла молча объезжает топовые спорткары)))А вообще, машина топовая, но у нас пока не готовы к ее использованию\n",
            "   Интересный автомобиль. Ждём дополнений. 5\n",
            "\n"
          ]
        }
      ],
      "source": [
        "# Вывод примеров\n",
        "demo_ai.samples()"
      ]
    },
    {
      "cell_type": "code",
      "source": [
        "# Задаем параметры для формирования выборок\n",
        "vocab_size = '10000'\n",
        "block_length = '50'\n",
        "block_step = '50'\n",
        "\n",
        "# Создание обучающей и проверочной выборок\n",
        "demo_ai.create_sets(\n",
        "    vocab_size,\n",
        "    block_length,\n",
        "    block_step,\n",
        ")"
      ],
      "metadata": {
        "colab": {
          "base_uri": "https://localhost:8080/",
          "height": 668
        },
        "id": "KPF8SMCMKqcn",
        "outputId": "1940bec7-f24a-4ae1-f2ba-3acc64acc5f7"
      },
      "execution_count": 4,
      "outputs": [
        {
          "output_type": "stream",
          "name": "stdout",
          "text": [
            "Формирование выборки завершено\n",
            "\n",
            "Размер созданных выборок для Embedding:\n",
            "  Обучающая выборка: (8000, 50)\n",
            "  Проверочная выборка: (200, 50)\n",
            "\n",
            "Размер созданных выборок для BagOfWords:\n",
            "  Обучающая выборка: (8000, 10000)\n",
            "  Проверочная выборка: (200, 10000)\n",
            "\n",
            "Размер созданных выборок для BagOfWords + PyMorphy:\n",
            "  Обучающая выборка: (8000, 10000)\n",
            "  Проверочная выборка: (200, 10000)\n",
            "\n",
            "Метки:\n",
            "  Метки обучающей выборки: (8000, 2)\n",
            "  Метки проверочной выборки: (200, 2)\n",
            "\n",
            "Распределение по классам:\n"
          ]
        },
        {
          "output_type": "display_data",
          "data": {
            "text/plain": [
              "<Figure size 1152x360 with 2 Axes>"
            ],
            "image/png": "[encoded data removed]"
          },
          "metadata": {}
        }
      ]
    },
    {
      "cell_type": "markdown",
      "source": [
        "**Эксперимент №1 (BagOfWords)**"
      ],
      "metadata": {
        "id": "Q_TM05VLgPOw"
      }
    },
    {
      "cell_type": "code",
      "source": [
        "# Задание слоев нейронной сети\n",
        "layers = 'Полносвязный-100\\\n",
        " Полносвязный-2'\n",
        " \n",
        "# Создание нейронной сети\n",
        "demo_ai.create_model(layers, model_type='BagOfWords')"
      ],
      "metadata": {
        "colab": {
          "base_uri": "https://localhost:8080/"
        },
        "id": "hUujWT4Qn_Ls",
        "outputId": "89c13390-60c9-4179-da07-9bf1f0998d09"
      },
      "execution_count": 5,
      "outputs": [
        {
          "output_type": "stream",
          "name": "stdout",
          "text": [
            "\u001b[1mСоздание модели нейронной сети\u001b[0m \u001b[92mOk\u001b[0m\n"
          ]
        }
      ]
    },
    {
      "cell_type": "code",
      "source": [
        "# Обучение нейронной сети\n",
        "demo_ai.train_model(epochs=15)"
      ],
      "metadata": {
        "colab": {
          "base_uri": "https://localhost:8080/",
          "height": 671
        },
        "id": "LXNy24Jor4Yc",
        "outputId": "bfcf0c6e-6813-4901-ff57-abc790fe4233"
      },
      "execution_count": 6,
      "outputs": [
        {
          "output_type": "stream",
          "name": "stdout",
          "text": [
            "Эпоха №1    Время обучения: 6.0c    Точность на обучающей выборке: 96.4%     Точность на проверочной выборке: 84.5%\n",
            "Эпоха №2    Время обучения: 1.68c   Точность на обучающей выборке: 100.0%    Точность на проверочной выборке: 84.5%\n",
            "Эпоха №3    Время обучения: 1.28c   Точность на обучающей выборке: 100.0%    Точность на проверочной выборке: 84.5%\n",
            "Эпоха №4    Время обучения: 1.26c   Точность на обучающей выборке: 100.0%    Точность на проверочной выборке: 84.0%\n",
            "Эпоха №5    Время обучения: 1.28c   Точность на обучающей выборке: 100.0%    Точность на проверочной выборке: 84.0%\n",
            "Эпоха №6    Время обучения: 1.32c   Точность на обучающей выборке: 100.0%    Точность на проверочной выборке: 84.0%\n",
            "Эпоха №7    Время обучения: 1.27c   Точность на обучающей выборке: 100.0%    Точность на проверочной выборке: 84.0%\n",
            "Эпоха №8    Время обучения: 1.24c   Точность на обучающей выборке: 100.0%    Точность на проверочной выборке: 84.0%\n",
            "Эпоха №9    Время обучения: 1.23c   Точность на обучающей выборке: 100.0%    Точность на проверочной выборке: 84.0%\n",
            "Эпоха №10   Время обучения: 1.43c   Точность на обучающей выборке: 100.0%    Точность на проверочной выборке: 83.5%\n",
            "Эпоха №11   Время обучения: 1.76c   Точность на обучающей выборке: 100.0%    Точность на проверочной выборке: 83.5%\n",
            "Эпоха №12   Время обучения: 1.28c   Точность на обучающей выборке: 100.0%    Точность на проверочной выборке: 83.5%\n",
            "Эпоха №13   Время обучения: 1.27c   Точность на обучающей выборке: 100.0%    Точность на проверочной выборке: 83.5%\n",
            "Эпоха №14   Время обучения: 1.24c   Точность на обучающей выборке: 100.0%    Точность на проверочной выборке: 83.5%\n",
            "Эпоха №15   Время обучения: 1.27c   Точность на обучающей выборке: 100.0%    Точность на проверочной выборке: 83.5%\n",
            "\n"
          ]
        },
        {
          "output_type": "display_data",
          "data": {
            "text/plain": [
              "<Figure size 864x432 with 1 Axes>"
            ],
            "image/png": "[encoded data removed]"
          },
          "metadata": {}
        }
      ]
    },
    {
      "cell_type": "code",
      "source": [
        "# Демонстрация результата работы нейронной сети\n",
        "demo_ai.test_model(\n",
        "    'Машина супер скоростная. По трассе идет просто отлично! Однозначно брать',\n",
        "    block_length,\n",
        "    block_step\n",
        "    )"
      ],
      "metadata": {
        "colab": {
          "base_uri": "https://localhost:8080/"
        },
        "id": "X5xiV0iWr6nZ",
        "outputId": "a13381f1-2cb5-4819-f2b4-482beef9fd67"
      },
      "execution_count": 7,
      "outputs": [
        {
          "output_type": "stream",
          "name": "stdout",
          "text": [
            "1/1 [==============================] - 0s 75ms/step\n",
            "Негативные     -  17.16 %\n",
            "Позитивные     -  82.84 %\n",
            "\n",
            "Нейросеть думает, что это: Позитивные - 82.84%\n"
          ]
        }
      ]
    },
    {
      "cell_type": "code",
      "source": [
        "# Демонстрация результата работы нейронной сети\n",
        "demo_ai.test_model(\n",
        "    'Самая быстрая красивая мощная', \n",
        "    block_length,\n",
        "    block_step\n",
        "    )"
      ],
      "metadata": {
        "colab": {
          "base_uri": "https://localhost:8080/"
        },
        "id": "SMCfuVjer-QW",
        "outputId": "beb02bf3-a973-4602-bab2-73df103580b2"
      },
      "execution_count": 8,
      "outputs": [
        {
          "output_type": "stream",
          "name": "stdout",
          "text": [
            "1/1 [==============================] - 0s 20ms/step\n",
            "Негативные     -  31.25 %\n",
            "Позитивные     -  68.75 %\n",
            "\n",
            "Нейросеть думает, что это: Позитивные - 68.75%\n"
          ]
        }
      ]
    },
    {
      "cell_type": "code",
      "source": [
        "# Демонстрация результата работы нейронной сети\n",
        "demo_ai.test_model(\n",
        "    'Обзор не очень, зеркала маленькие, заднее стекло тоже', \n",
        "    block_length,\n",
        "    block_step\n",
        "    )\n"
      ],
      "metadata": {
        "colab": {
          "base_uri": "https://localhost:8080/"
        },
        "id": "rV6neCBcsBi1",
        "outputId": "824a60c9-c92b-416f-9dfd-0a6470f161a7"
      },
      "execution_count": 9,
      "outputs": [
        {
          "output_type": "stream",
          "name": "stdout",
          "text": [
            "1/1 [==============================] - 0s 23ms/step\n",
            "Негативные     -  56.68 %\n",
            "Позитивные     -  43.32 %\n",
            "\n",
            "Нейросеть думает, что это: Негативные - 56.68%\n"
          ]
        }
      ]
    },
    {
      "cell_type": "markdown",
      "source": [
        "**Эксперимент №2 (BagOfWords)**"
      ],
      "metadata": {
        "id": "NNyNeAU2z27p"
      }
    },
    {
      "cell_type": "code",
      "source": [
        "# Задание слоев нейронной сети\n",
        "layers = 'Полносвязный-800\\\n",
        " Полносвязный-200\\\n",
        " Полносвязный-2'\n",
        " \n",
        "# Создание нейронной сети\n",
        "demo_ai.create_model(layers, model_type='BagOfWords')"
      ],
      "metadata": {
        "colab": {
          "base_uri": "https://localhost:8080/"
        },
        "outputId": "9fbf61de-a4f2-4b0c-edf1-6b022ad5bcbc",
        "id": "nQVvStlEz27y"
      },
      "execution_count": 10,
      "outputs": [
        {
          "output_type": "stream",
          "name": "stdout",
          "text": [
            "\u001b[1mСоздание модели нейронной сети\u001b[0m \u001b[92mOk\u001b[0m\n"
          ]
        }
      ]
    },
    {
      "cell_type": "code",
      "source": [
        "# Обучение нейронной сети\n",
        "demo_ai.train_model(epochs=15)"
      ],
      "metadata": {
        "colab": {
          "base_uri": "https://localhost:8080/",
          "height": 671
        },
        "outputId": "8aa6550c-5166-400f-d583-5c8fe7d7c431",
        "id": "bmINSpNWz27y"
      },
      "execution_count": 11,
      "outputs": [
        {
          "output_type": "stream",
          "name": "stdout",
          "text": [
            "Эпоха №1    Время обучения: 3.48c   Точность на обучающей выборке: 97.29%    Точность на проверочной выборке: 85.5%\n",
            "Эпоха №2    Время обучения: 1.75c   Точность на обучающей выборке: 100.0%    Точность на проверочной выборке: 85.5%\n",
            "Эпоха №3    Время обучения: 1.65c   Точность на обучающей выборке: 100.0%    Точность на проверочной выборке: 85.5%\n",
            "Эпоха №4    Время обучения: 1.68c   Точность на обучающей выборке: 100.0%    Точность на проверочной выборке: 85.5%\n",
            "Эпоха №5    Время обучения: 1.66c   Точность на обучающей выборке: 100.0%    Точность на проверочной выборке: 85.0%\n",
            "Эпоха №6    Время обучения: 2.11c   Точность на обучающей выборке: 100.0%    Точность на проверочной выборке: 85.0%\n",
            "Эпоха №7    Время обучения: 1.96c   Точность на обучающей выборке: 100.0%    Точность на проверочной выборке: 85.0%\n",
            "Эпоха №8    Время обучения: 1.69c   Точность на обучающей выборке: 100.0%    Точность на проверочной выборке: 85.0%\n",
            "Эпоха №9    Время обучения: 1.7c    Точность на обучающей выборке: 100.0%    Точность на проверочной выборке: 85.0%\n",
            "Эпоха №10   Время обучения: 1.73c   Точность на обучающей выборке: 100.0%    Точность на проверочной выборке: 85.0%\n",
            "Эпоха №11   Время обучения: 1.69c   Точность на обучающей выборке: 100.0%    Точность на проверочной выборке: 85.0%\n",
            "Эпоха №12   Время обучения: 1.71c   Точность на обучающей выборке: 100.0%    Точность на проверочной выборке: 84.5%\n",
            "Эпоха №13   Время обучения: 2.04c   Точность на обучающей выборке: 100.0%    Точность на проверочной выборке: 84.5%\n",
            "Эпоха №14   Время обучения: 1.97c   Точность на обучающей выборке: 100.0%    Точность на проверочной выборке: 84.5%\n",
            "Эпоха №15   Время обучения: 1.7c    Точность на обучающей выборке: 100.0%    Точность на проверочной выборке: 84.5%\n",
            "\n"
          ]
        },
        {
          "output_type": "display_data",
          "data": {
            "text/plain": [
              "<Figure size 864x432 with 1 Axes>"
            ],
            "image/png": "[encoded data removed]"
          },
          "metadata": {}
        }
      ]
    },
    {
      "cell_type": "code",
      "source": [
        "# Демонстрация результата работы нейронной сети\n",
        "demo_ai.test_model(\n",
        "    'Машина супер скоростная. По трассе идет просто отлично! Однозначно брать',\n",
        "    block_length,\n",
        "    block_step\n",
        "    )"
      ],
      "metadata": {
        "colab": {
          "base_uri": "https://localhost:8080/"
        },
        "outputId": "1071c7e1-efca-45bb-e2c7-cb14b635ce26",
        "id": "RTxenrq_z27z"
      },
      "execution_count": 12,
      "outputs": [
        {
          "output_type": "stream",
          "name": "stdout",
          "text": [
            "1/1 [==============================] - 0s 53ms/step\n",
            "Негативные     -  25.46 %\n",
            "Позитивные     -  74.54 %\n",
            "\n",
            "Нейросеть думает, что это: Позитивные - 74.54%\n"
          ]
        }
      ]
    },
    {
      "cell_type": "code",
      "source": [
        "# Демонстрация результата работы нейронной сети\n",
        "demo_ai.test_model(\n",
        "    'Самая быстрая красивая мощная', \n",
        "    block_length,\n",
        "    block_step\n",
        "    )"
      ],
      "metadata": {
        "colab": {
          "base_uri": "https://localhost:8080/"
        },
        "outputId": "4d041f8b-2341-4283-8753-63aa9f0ff393",
        "id": "A_1anosVz27z"
      },
      "execution_count": 13,
      "outputs": [
        {
          "output_type": "stream",
          "name": "stdout",
          "text": [
            "1/1 [==============================] - 0s 23ms/step\n",
            "Негативные     -  44.13 %\n",
            "Позитивные     -  55.87 %\n",
            "\n",
            "Нейросеть думает, что это: Позитивные - 55.87%\n"
          ]
        }
      ]
    },
    {
      "cell_type": "code",
      "source": [
        "# Демонстрация результата работы нейронной сети\n",
        "demo_ai.test_model(\n",
        "    'Обзор не очень, зеркала маленькие, заднее стекло тоже', \n",
        "    block_length,\n",
        "    block_step\n",
        "    )\n"
      ],
      "metadata": {
        "colab": {
          "base_uri": "https://localhost:8080/"
        },
        "outputId": "6efbd209-4026-45e2-f2be-4e218c0af43a",
        "id": "rIre6jXfz27z"
      },
      "execution_count": 14,
      "outputs": [
        {
          "output_type": "stream",
          "name": "stdout",
          "text": [
            "1/1 [==============================] - 0s 20ms/step\n",
            "Негативные     -  67.93 %\n",
            "Позитивные     -  32.07 %\n",
            "\n",
            "Нейросеть думает, что это: Негативные - 67.93%\n"
          ]
        }
      ]
    },
    {
      "cell_type": "markdown",
      "source": [
        "**Эксперимент №3 (BagOfWords+PyMorphy)**"
      ],
      "metadata": {
        "id": "2Lvnox_M0G75"
      }
    },
    {
      "cell_type": "code",
      "source": [
        "# Задание слоев нейронной сети\n",
        "layers = 'Полносвязный-100\\\n",
        " Полносвязный-2'\n",
        " \n",
        "# Создание нейронной сети\n",
        "demo_ai.create_model(layers, model_type='BagOfWords+PyMorphy')"
      ],
      "metadata": {
        "colab": {
          "base_uri": "https://localhost:8080/"
        },
        "outputId": "8a43b1e7-0348-4b14-834b-b907abf35b2e",
        "id": "-yp_YbBu0G76"
      },
      "execution_count": null,
      "outputs": [
        {
          "output_type": "stream",
          "name": "stdout",
          "text": [
            "\u001b[1mСоздание модели нейронной сети\u001b[0m \u001b[92mOk\u001b[0m\n"
          ]
        }
      ]
    },
    {
      "cell_type": "code",
      "source": [
        "# Обучение нейронной сети\n",
        "demo_ai.train_model(epochs=15)"
      ],
      "metadata": {
        "colab": {
          "base_uri": "https://localhost:8080/",
          "height": 671
        },
        "outputId": "a12504b6-2860-4c22-8c35-50d1521b8dbe",
        "id": "T8-9t1wI0G76"
      },
      "execution_count": null,
      "outputs": [
        {
          "output_type": "stream",
          "name": "stdout",
          "text": [
            "Эпоха №1    Время обучения: 1.73c   Точность на обучающей выборке: 61.36%    Точность на проверочной выборке: 61.0%\n",
            "Эпоха №2    Время обучения: 1.24c   Точность на обучающей выборке: 64.63%    Точность на проверочной выборке: 60.5%\n",
            "Эпоха №3    Время обучения: 1.82c   Точность на обучающей выборке: 65.45%    Точность на проверочной выборке: 61.0%\n",
            "Эпоха №4    Время обучения: 1.58c   Точность на обучающей выборке: 66.11%    Точность на проверочной выборке: 61.0%\n",
            "\u001b[42m\u001b[37mЭпоха №5    Время обучения: 1.36c   Точность на обучающей выборке: 66.87%    Точность на проверочной выборке: 63.0%\u001b[0m\n",
            "Эпоха №6    Время обучения: 1.24c   Точность на обучающей выборке: 67.45%    Точность на проверочной выборке: 62.5%\n",
            "Эпоха №7    Время обучения: 1.23c   Точность на обучающей выборке: 68.15%    Точность на проверочной выборке: 62.5%\n",
            "Эпоха №8    Время обучения: 1.23c   Точность на обучающей выборке: 69.05%    Точность на проверочной выборке: 61.0%\n",
            "Эпоха №9    Время обучения: 1.29c   Точность на обучающей выборке: 70.13%    Точность на проверочной выборке: 61.5%\n",
            "Эпоха №10   Время обучения: 1.25c   Точность на обучающей выборке: 71.28%    Точность на проверочной выборке: 60.5%\n",
            "Эпоха №11   Время обучения: 1.2c    Точность на обучающей выборке: 72.28%    Точность на проверочной выборке: 60.0%\n",
            "Эпоха №12   Время обучения: 1.17c   Точность на обучающей выборке: 72.99%    Точность на проверочной выборке: 60.0%\n",
            "Эпоха №13   Время обучения: 1.17c   Точность на обучающей выборке: 74.01%    Точность на проверочной выборке: 59.5%\n",
            "Эпоха №14   Время обучения: 1.21c   Точность на обучающей выборке: 74.4%     Точность на проверочной выборке: 60.5%\n",
            "Эпоха №15   Время обучения: 1.2c    Точность на обучающей выборке: 75.14%    Точность на проверочной выборке: 61.5%\n",
            "\n"
          ]
        },
        {
          "output_type": "display_data",
          "data": {
            "text/plain": [
              "<Figure size 864x432 with 1 Axes>"
            ],
            "image/png": "[encoded data removed]"
          },
          "metadata": {}
        }
      ]
    },
    {
      "cell_type": "code",
      "source": [
        "# Демонстрация результата работы нейронной сети\n",
        "demo_ai.test_model(\n",
        "    'Машина супер скоростная. По трассе идет просто отлично! Однозначно брать',\n",
        "    block_length,\n",
        "    block_step\n",
        "    )"
      ],
      "metadata": {
        "colab": {
          "base_uri": "https://localhost:8080/"
        },
        "outputId": "15034b91-6ed7-431e-c0c2-b983270a864a",
        "id": "sKdTqxwS0G76"
      },
      "execution_count": null,
      "outputs": [
        {
          "output_type": "stream",
          "name": "stdout",
          "text": [
            "Негативные     -  45.69 %\n",
            "Позитивные     -  54.31 %\n",
            "\n",
            "Нейросеть думает, что это: Позитивные - 54.31%\n"
          ]
        }
      ]
    },
    {
      "cell_type": "code",
      "source": [
        "# Демонстрация результата работы нейронной сети\n",
        "demo_ai.test_model(\n",
        "    'Самая быстрая красивая мощная', \n",
        "    block_length,\n",
        "    block_step\n",
        "    )"
      ],
      "metadata": {
        "colab": {
          "base_uri": "https://localhost:8080/"
        },
        "outputId": "c5196436-1f6f-4580-a1d6-34644f87474c",
        "id": "yC64IB350G76"
      },
      "execution_count": null,
      "outputs": [
        {
          "output_type": "stream",
          "name": "stdout",
          "text": [
            "Негативные     -  46.56 %\n",
            "Позитивные     -  53.44 %\n",
            "\n",
            "Нейросеть думает, что это: Позитивные - 53.44%\n"
          ]
        }
      ]
    },
    {
      "cell_type": "code",
      "source": [
        "# Демонстрация результата работы нейронной сети\n",
        "demo_ai.test_model(\n",
        "    'Обзор не очень, зеркала маленькие, заднее стекло тоже', \n",
        "    block_length,\n",
        "    block_step\n",
        "    )\n"
      ],
      "metadata": {
        "colab": {
          "base_uri": "https://localhost:8080/"
        },
        "outputId": "5bfea7c9-a21f-461e-f73f-b594b1c73664",
        "id": "yqSQoKFM0G77"
      },
      "execution_count": null,
      "outputs": [
        {
          "output_type": "stream",
          "name": "stdout",
          "text": [
            "Негативные     -  45.94 %\n",
            "Позитивные     -  54.06 %\n",
            "\n",
            "Нейросеть думает, что это: Позитивные - 54.06%\n"
          ]
        }
      ]
    },
    {
      "cell_type": "markdown",
      "source": [
        "**Эксперимент №4 (BagOfWords+PyMorphy)**"
      ],
      "metadata": {
        "id": "Nh3XMCgt2DvD"
      }
    },
    {
      "cell_type": "code",
      "source": [
        "# Задание слоев нейронной сети\n",
        "layers = 'Полносвязный-800\\\n",
        " Полносвязный-200\\\n",
        " Полносвязный-2'\n",
        " \n",
        "# Создание нейронной сети\n",
        "demo_ai.create_model(layers, model_type='BagOfWords+PyMorphy')"
      ],
      "metadata": {
        "colab": {
          "base_uri": "https://localhost:8080/"
        },
        "outputId": "911ddbd0-3db9-4450-fd71-633b2047083d",
        "id": "UhuUh0ry2DvD"
      },
      "execution_count": null,
      "outputs": [
        {
          "output_type": "stream",
          "name": "stdout",
          "text": [
            "\u001b[1mСоздание модели нейронной сети\u001b[0m \u001b[92mOk\u001b[0m\n"
          ]
        }
      ]
    },
    {
      "cell_type": "code",
      "source": [
        "# Обучение нейронной сети\n",
        "demo_ai.train_model(epochs=15)"
      ],
      "metadata": {
        "colab": {
          "base_uri": "https://localhost:8080/",
          "height": 671
        },
        "outputId": "43537f5d-711e-4e85-9900-8e20edc03a19",
        "id": "4yp7zdZr2DvE"
      },
      "execution_count": null,
      "outputs": [
        {
          "output_type": "stream",
          "name": "stdout",
          "text": [
            "Эпоха №1    Время обучения: 2.31c   Точность на обучающей выборке: 62.48%    Точность на проверочной выборке: 59.0%\n",
            "Эпоха №2    Время обучения: 1.73c   Точность на обучающей выборке: 71.1%     Точность на проверочной выборке: 58.0%\n",
            "\u001b[42m\u001b[37mЭпоха №3    Время обучения: 1.76c   Точность на обучающей выборке: 79.95%    Точность на проверочной выборке: 61.0%\u001b[0m\n",
            "Эпоха №4    Время обучения: 1.74c   Точность на обучающей выборке: 88.74%    Точность на проверочной выборке: 57.5%\n",
            "Эпоха №5    Время обучения: 1.74c   Точность на обучающей выборке: 94.34%    Точность на проверочной выборке: 57.5%\n",
            "Эпоха №6    Время обучения: 1.75c   Точность на обучающей выборке: 97.59%    Точность на проверочной выборке: 54.5%\n",
            "Эпоха №7    Время обучения: 1.78c   Точность на обучающей выборке: 98.96%    Точность на проверочной выборке: 59.0%\n",
            "Эпоха №8    Время обучения: 1.75c   Точность на обучающей выборке: 99.19%    Точность на проверочной выборке: 56.5%\n",
            "Эпоха №9    Время обучения: 1.74c   Точность на обучающей выборке: 99.54%    Точность на проверочной выборке: 54.5%\n",
            "Эпоха №10   Время обучения: 1.76c   Точность на обучающей выборке: 99.64%    Точность на проверочной выборке: 53.0%\n",
            "Эпоха №11   Время обучения: 1.72c   Точность на обучающей выборке: 99.76%    Точность на проверочной выборке: 53.5%\n",
            "Эпоха №12   Время обучения: 1.75c   Точность на обучающей выборке: 99.73%    Точность на проверочной выборке: 53.0%\n",
            "Эпоха №13   Время обучения: 1.78c   Точность на обучающей выборке: 99.71%    Точность на проверочной выборке: 52.5%\n",
            "Эпоха №14   Время обучения: 1.74c   Точность на обучающей выборке: 99.77%    Точность на проверочной выборке: 53.5%\n",
            "Эпоха №15   Время обучения: 1.77c   Точность на обучающей выборке: 99.65%    Точность на проверочной выборке: 53.5%\n",
            "\n"
          ]
        },
        {
          "output_type": "display_data",
          "data": {
            "text/plain": [
              "<Figure size 864x432 with 1 Axes>"
            ],
            "image/png": "[encoded data removed]"
          },
          "metadata": {}
        }
      ]
    },
    {
      "cell_type": "code",
      "source": [
        "# Демонстрация результата работы нейронной сети\n",
        "demo_ai.test_model(\n",
        "    'Машина супер скоростная. По трассе идет просто отлично! Однозначно брать',\n",
        "    block_length,\n",
        "    block_step\n",
        "    )"
      ],
      "metadata": {
        "colab": {
          "base_uri": "https://localhost:8080/"
        },
        "outputId": "2a624265-c2fe-429c-ace3-c33208f9003b",
        "id": "hJGvuodb2DvE"
      },
      "execution_count": null,
      "outputs": [
        {
          "output_type": "stream",
          "name": "stdout",
          "text": [
            "Негативные     -  39.1 %\n",
            "Позитивные     -  60.9 %\n",
            "\n",
            "Нейросеть думает, что это: Позитивные - 60.9%\n"
          ]
        }
      ]
    },
    {
      "cell_type": "code",
      "source": [
        "# Демонстрация результата работы нейронной сети\n",
        "demo_ai.test_model(\n",
        "    'Самая быстрая красивая мощная', \n",
        "    block_length,\n",
        "    block_step\n",
        "    )"
      ],
      "metadata": {
        "colab": {
          "base_uri": "https://localhost:8080/"
        },
        "outputId": "d60b2912-8df5-40d2-a8fe-554a0193dedf",
        "id": "dFh4qXIz2DvE"
      },
      "execution_count": null,
      "outputs": [
        {
          "output_type": "stream",
          "name": "stdout",
          "text": [
            "Негативные     -  37.83 %\n",
            "Позитивные     -  62.17 %\n",
            "\n",
            "Нейросеть думает, что это: Позитивные - 62.17%\n"
          ]
        }
      ]
    },
    {
      "cell_type": "code",
      "source": [
        "# Демонстрация результата работы нейронной сети\n",
        "demo_ai.test_model(\n",
        "    'Обзор не очень, зеркала маленькие, заднее стекло тоже', \n",
        "    block_length,\n",
        "    block_step\n",
        "    )\n"
      ],
      "metadata": {
        "colab": {
          "base_uri": "https://localhost:8080/"
        },
        "outputId": "eb87a598-af6b-4f57-cb64-32ab28e30971",
        "id": "4R-W70Dd2DvF"
      },
      "execution_count": null,
      "outputs": [
        {
          "output_type": "stream",
          "name": "stdout",
          "text": [
            "Негативные     -  37.64 %\n",
            "Позитивные     -  62.36 %\n",
            "\n",
            "Нейросеть думает, что это: Позитивные - 62.36%\n"
          ]
        }
      ]
    },
    {
      "cell_type": "markdown",
      "source": [
        "###**Эксперимент №5 (Embedding)**"
      ],
      "metadata": {
        "id": "j6DTCCBr2DvF"
      }
    },
    {
      "cell_type": "code",
      "source": [
        "# Задание слоев нейронной сети\n",
        "layers = f'Эмбеддинг-2-{vocab_size}-{block_length}\\\n",
        " Выравнивающий\\\n",
        " Полносвязный-2'\n",
        " \n",
        "# Создание нейронной сети\n",
        "demo_ai.create_model(layers, model_type='Embedding')"
      ],
      "metadata": {
        "colab": {
          "base_uri": "https://localhost:8080/"
        },
        "outputId": "bd92f644-01c9-4683-f67c-893715508a0b",
        "id": "ORM7z-1H2DvF"
      },
      "execution_count": null,
      "outputs": [
        {
          "output_type": "stream",
          "name": "stdout",
          "text": [
            "\u001b[1mСоздание модели нейронной сети\u001b[0m \u001b[92mOk\u001b[0m\n"
          ]
        }
      ]
    },
    {
      "cell_type": "code",
      "source": [
        "# Обучение нейронной сети\n",
        "demo_ai.train_model(epochs=15)"
      ],
      "metadata": {
        "colab": {
          "base_uri": "https://localhost:8080/",
          "height": 671
        },
        "outputId": "3c9aa52c-09dd-46c8-be7f-90ca9faef05a",
        "id": "K1Z2GdLh2DvF"
      },
      "execution_count": null,
      "outputs": [
        {
          "output_type": "stream",
          "name": "stdout",
          "text": [
            "Эпоха №1    Время обучения: 1.8c    Точность на обучающей выборке: 68.71%    Точность на проверочной выборке: 49.5%\n",
            "Эпоха №2    Время обучения: 1.35c   Точность на обучающей выборке: 92.37%    Точность на проверочной выборке: 49.0%\n",
            "Эпоха №3    Время обучения: 1.28c   Точность на обучающей выборке: 98.11%    Точность на проверочной выборке: 51.0%\n",
            "Эпоха №4    Время обучения: 1.32c   Точность на обучающей выборке: 99.34%    Точность на проверочной выборке: 51.5%\n",
            "\u001b[42m\u001b[37mЭпоха №5    Время обучения: 1.32c   Точность на обучающей выборке: 99.81%    Точность на проверочной выборке: 54.0%\u001b[0m\n",
            "Эпоха №6    Время обучения: 1.32c   Точность на обучающей выборке: 99.85%    Точность на проверочной выборке: 51.5%\n",
            "Эпоха №7    Время обучения: 1.33c   Точность на обучающей выборке: 99.96%    Точность на проверочной выборке: 51.0%\n",
            "Эпоха №8    Время обучения: 1.29c   Точность на обучающей выборке: 100.0%    Точность на проверочной выборке: 51.5%\n",
            "Эпоха №9    Время обучения: 1.29c   Точность на обучающей выборке: 100.0%    Точность на проверочной выборке: 52.0%\n",
            "Эпоха №10   Время обучения: 1.29c   Точность на обучающей выборке: 100.0%    Точность на проверочной выборке: 52.0%\n",
            "Эпоха №11   Время обучения: 1.29c   Точность на обучающей выборке: 100.0%    Точность на проверочной выборке: 52.0%\n",
            "Эпоха №12   Время обучения: 1.33c   Точность на обучающей выборке: 100.0%    Точность на проверочной выборке: 52.5%\n",
            "Эпоха №13   Время обучения: 1.29c   Точность на обучающей выборке: 100.0%    Точность на проверочной выборке: 52.5%\n",
            "Эпоха №14   Время обучения: 1.29c   Точность на обучающей выборке: 100.0%    Точность на проверочной выборке: 53.0%\n",
            "Эпоха №15   Время обучения: 1.27c   Точность на обучающей выборке: 100.0%    Точность на проверочной выборке: 53.0%\n",
            "\n"
          ]
        },
        {
          "output_type": "display_data",
          "data": {
            "text/plain": [
              "<Figure size 864x432 with 1 Axes>"
            ],
            "image/png": "[encoded data removed]"
          },
          "metadata": {}
        }
      ]
    },
    {
      "cell_type": "code",
      "source": [
        "# Демонстрация результата работы нейронной сети\n",
        "demo_ai.test_model(\n",
        "    'Машина супер скоростная. По трассе идет просто отлично! Однозначно брать',\n",
        "    block_length,\n",
        "    block_step\n",
        "    )"
      ],
      "metadata": {
        "colab": {
          "base_uri": "https://localhost:8080/"
        },
        "outputId": "05a13b5f-87d1-4283-ab54-fee8da2e0e43",
        "id": "d_zdfCR62DvF"
      },
      "execution_count": null,
      "outputs": [
        {
          "output_type": "stream",
          "name": "stdout",
          "text": [
            "Негативные     -  51.05 %\n",
            "Позитивные     -  48.95 %\n",
            "\n",
            "Нейросеть думает, что это: Негативные - 51.05%\n"
          ]
        }
      ]
    },
    {
      "cell_type": "code",
      "source": [
        "# Демонстрация результата работы нейронной сети\n",
        "demo_ai.test_model(\n",
        "    'Самая быстрая красивая мощная', \n",
        "    block_length,\n",
        "    block_step\n",
        "    )"
      ],
      "metadata": {
        "colab": {
          "base_uri": "https://localhost:8080/"
        },
        "outputId": "93f39e70-873e-42b4-804b-91e284690845",
        "id": "vT3KFBTd2DvG"
      },
      "execution_count": null,
      "outputs": [
        {
          "output_type": "stream",
          "name": "stdout",
          "text": [
            "Негативные     -  51.0 %\n",
            "Позитивные     -  49.0 %\n",
            "\n",
            "Нейросеть думает, что это: Негативные - 51.0%\n"
          ]
        }
      ]
    },
    {
      "cell_type": "code",
      "source": [
        "# Демонстрация результата работы нейронной сети\n",
        "demo_ai.test_model(\n",
        "    'Обзор не очень, зеркала маленькие, заднее стекло тоже', \n",
        "    block_length,\n",
        "    block_step\n",
        "    )\n"
      ],
      "metadata": {
        "colab": {
          "base_uri": "https://localhost:8080/"
        },
        "outputId": "3261d341-9ae0-442e-eb28-ff00114a33cd",
        "id": "zv1g4sl-2DvG"
      },
      "execution_count": null,
      "outputs": [
        {
          "output_type": "stream",
          "name": "stdout",
          "text": [
            "Негативные     -  50.88 %\n",
            "Позитивные     -  49.12 %\n",
            "\n",
            "Нейросеть думает, что это: Негативные - 50.88%\n"
          ]
        }
      ]
    },
    {
      "cell_type": "markdown",
      "source": [
        "**Эксперимент №6 (Embedding)**"
      ],
      "metadata": {
        "id": "gH_DaxZC31oX"
      }
    },
    {
      "cell_type": "code",
      "source": [
        "# Задание слоев нейронной сети\n",
        "layers = f'Эмбеддинг-2-{vocab_size}-{block_length}\\\n",
        " Выравнивающий\\\n",
        " Полносвязный-256\\\n",
        " Полносвязный-2'\n",
        " \n",
        "# Создание нейронной сети\n",
        "demo_ai.create_model(layers, model_type='Embedding')"
      ],
      "metadata": {
        "colab": {
          "base_uri": "https://localhost:8080/"
        },
        "id": "d69QwwKM31oh",
        "outputId": "2855a521-540c-4492-c8c4-c3945afed143"
      },
      "execution_count": null,
      "outputs": [
        {
          "output_type": "stream",
          "name": "stdout",
          "text": [
            "\u001b[1mСоздание модели нейронной сети\u001b[0m \u001b[92mOk\u001b[0m\n"
          ]
        }
      ]
    },
    {
      "cell_type": "code",
      "source": [
        "# Обучение нейронной сети\n",
        "demo_ai.train_model(epochs=15)"
      ],
      "metadata": {
        "colab": {
          "base_uri": "https://localhost:8080/",
          "height": 671
        },
        "id": "GE-1u23E31oh",
        "outputId": "57943c04-578d-45cf-955c-11ba973c849f"
      },
      "execution_count": null,
      "outputs": [
        {
          "output_type": "stream",
          "name": "stdout",
          "text": [
            "Эпоха №1    Время обучения: 1.97c   Точность на обучающей выборке: 78.66%    Точность на проверочной выборке: 53.0%\n",
            "Эпоха №2    Время обучения: 1.4c    Точность на обучающей выборке: 98.79%    Точность на проверочной выборке: 60.0%\n",
            "Эпоха №3    Время обучения: 1.34c   Точность на обучающей выборке: 100.0%    Точность на проверочной выборке: 61.0%\n",
            "Эпоха №4    Время обучения: 1.41c   Точность на обучающей выборке: 100.0%    Точность на проверочной выборке: 63.0%\n",
            "Эпоха №5    Время обучения: 1.37c   Точность на обучающей выборке: 100.0%    Точность на проверочной выборке: 63.0%\n",
            "Эпоха №6    Время обучения: 1.35c   Точность на обучающей выборке: 100.0%    Точность на проверочной выборке: 63.5%\n",
            "Эпоха №7    Время обучения: 1.37c   Точность на обучающей выборке: 100.0%    Точность на проверочной выборке: 63.5%\n",
            "Эпоха №8    Время обучения: 1.31c   Точность на обучающей выборке: 100.0%    Точность на проверочной выборке: 64.0%\n",
            "Эпоха №9    Время обучения: 1.42c   Точность на обучающей выборке: 100.0%    Точность на проверочной выборке: 64.0%\n",
            "Эпоха №10   Время обучения: 1.34c   Точность на обучающей выборке: 100.0%    Точность на проверочной выборке: 64.0%\n",
            "Эпоха №11   Время обучения: 1.38c   Точность на обучающей выборке: 100.0%    Точность на проверочной выборке: 64.0%\n",
            "Эпоха №12   Время обучения: 1.38c   Точность на обучающей выборке: 100.0%    Точность на проверочной выборке: 64.0%\n",
            "Эпоха №13   Время обучения: 1.34c   Точность на обучающей выборке: 100.0%    Точность на проверочной выборке: 64.0%\n",
            "Эпоха №14   Время обучения: 1.34c   Точность на обучающей выборке: 100.0%    Точность на проверочной выборке: 64.0%\n",
            "\u001b[42m\u001b[37mЭпоха №15   Время обучения: 1.36c   Точность на обучающей выборке: 100.0%    Точность на проверочной выборке: 64.0%\u001b[0m\n",
            "\n"
          ]
        },
        {
          "output_type": "display_data",
          "data": {
            "text/plain": [
              "<Figure size 864x432 with 1 Axes>"
            ],
            "image/png": "[encoded data removed]"
          },
          "metadata": {}
        }
      ]
    },
    {
      "cell_type": "code",
      "source": [
        "# Демонстрация результата работы нейронной сети\n",
        "demo_ai.test_model(\n",
        "    'Машина супер скоростная. По трассе идет просто отлично! Однозначно брать',\n",
        "    block_length,\n",
        "    block_step\n",
        "    )"
      ],
      "metadata": {
        "colab": {
          "base_uri": "https://localhost:8080/"
        },
        "id": "zH03980Y31oi",
        "outputId": "4c7349af-317c-433a-8571-d7643ce43676"
      },
      "execution_count": null,
      "outputs": [
        {
          "output_type": "stream",
          "name": "stdout",
          "text": [
            "Негативные     -  48.15 %\n",
            "Позитивные     -  51.85 %\n",
            "\n",
            "Нейросеть думает, что это: Позитивные - 51.85%\n"
          ]
        }
      ]
    },
    {
      "cell_type": "code",
      "source": [
        "# Демонстрация результата работы нейронной сети\n",
        "demo_ai.test_model(\n",
        "    'Самая быстрая красивая мощная', \n",
        "    block_length,\n",
        "    block_step\n",
        "    )"
      ],
      "metadata": {
        "colab": {
          "base_uri": "https://localhost:8080/"
        },
        "id": "pBfTbZDG31oi",
        "outputId": "225fcf6b-54cb-4bdc-ab77-bcbb12ba2223"
      },
      "execution_count": null,
      "outputs": [
        {
          "output_type": "stream",
          "name": "stdout",
          "text": [
            "Негативные     -  48.73 %\n",
            "Позитивные     -  51.27 %\n",
            "\n",
            "Нейросеть думает, что это: Позитивные - 51.27%\n"
          ]
        }
      ]
    },
    {
      "cell_type": "code",
      "source": [
        "# Демонстрация результата работы нейронной сети\n",
        "demo_ai.test_model(\n",
        "    'Обзор не очень, зеркала маленькие, заднее стекло тоже', \n",
        "    block_length,\n",
        "    block_step\n",
        "    )\n"
      ],
      "metadata": {
        "colab": {
          "base_uri": "https://localhost:8080/"
        },
        "id": "h_vaHaGj31oi",
        "outputId": "46bef7cd-a02f-4ce0-d844-1ccbfc4d4880"
      },
      "execution_count": null,
      "outputs": [
        {
          "output_type": "stream",
          "name": "stdout",
          "text": [
            "Негативные     -  49.69 %\n",
            "Позитивные     -  50.31 %\n",
            "\n",
            "Нейросеть думает, что это: Позитивные - 50.31%\n"
          ]
        }
      ]
    },
    {
      "cell_type": "markdown",
      "source": [
        "**Эксперимент №7 (Комбинированная)**"
      ],
      "metadata": {
        "id": "V1Jlzl8v4BgK"
      }
    },
    {
      "cell_type": "code",
      "source": [
        "# Задание слоев нейронной сети\n",
        "branch_1 = f'Эмбеддинг-2-{vocab_size}-{block_length}\\\n",
        " Выравнивающий\\\n",
        " Полносвязный-2'\n",
        "\n",
        "branch_2 = 'Полносвязный-4\\\n",
        " Полносвязный-2'\n",
        "\n",
        "branch_3 = 'Полносвязный-2'\n",
        "\n",
        "# Создание модели нейронной сети\n",
        "demo_ai.create_model_combine(branch_1, branch_2, branch_3)"
      ],
      "metadata": {
        "colab": {
          "base_uri": "https://localhost:8080/"
        },
        "id": "7KFuFqT5UonL",
        "outputId": "01f1d5cd-1395-412e-afe1-214b99a72a47"
      },
      "execution_count": 15,
      "outputs": [
        {
          "output_type": "stream",
          "name": "stderr",
          "text": [
            "WARNING:absl:`lr` is deprecated, please use `learning_rate` instead, or use the legacy optimizer, e.g.,tf.keras.optimizers.legacy.Adam.\n"
          ]
        },
        {
          "output_type": "stream",
          "name": "stdout",
          "text": [
            "\u001b[1mСоздание комбинированной модели нейронной сети\u001b[0m \u001b[92mOk\u001b[0m\n"
          ]
        }
      ]
    },
    {
      "cell_type": "code",
      "source": [
        "# Обучение нейронной сети\n",
        "demo_ai.train_model(epochs=15)"
      ],
      "metadata": {
        "colab": {
          "base_uri": "https://localhost:8080/",
          "height": 671
        },
        "id": "Hb3G1Jjqb4Ru",
        "outputId": "c002ab68-b2fd-4345-9d79-46370a1d80a9"
      },
      "execution_count": 16,
      "outputs": [
        {
          "output_type": "stream",
          "name": "stdout",
          "text": [
            "Эпоха №1    Время обучения: 20.11c  Точность на обучающей выборке: 95.81%    Точность на проверочной выборке: 83.5%\n",
            "Эпоха №2    Время обучения: 3.33c   Точность на обучающей выборке: 100.0%    Точность на проверочной выборке: 83.5%\n",
            "Эпоха №3    Время обучения: 3.23c   Точность на обучающей выборке: 100.0%    Точность на проверочной выборке: 83.5%\n",
            "Эпоха №4    Время обучения: 3.76c   Точность на обучающей выборке: 100.0%    Точность на проверочной выборке: 83.5%\n",
            "Эпоха №5    Время обучения: 2.47c   Точность на обучающей выборке: 100.0%    Точность на проверочной выборке: 83.5%\n",
            "Эпоха №6    Время обучения: 2.32c   Точность на обучающей выборке: 100.0%    Точность на проверочной выборке: 83.5%\n",
            "Эпоха №7    Время обучения: 2.17c   Точность на обучающей выборке: 100.0%    Точность на проверочной выборке: 83.5%\n",
            "Эпоха №8    Время обучения: 2.14c   Точность на обучающей выборке: 100.0%    Точность на проверочной выборке: 84.0%\n",
            "Эпоха №9    Время обучения: 3.01c   Точность на обучающей выборке: 100.0%    Точность на проверочной выборке: 84.0%\n",
            "Эпоха №10   Время обучения: 1.84c   Точность на обучающей выборке: 100.0%    Точность на проверочной выборке: 84.0%\n",
            "Эпоха №11   Время обучения: 1.89c   Точность на обучающей выборке: 100.0%    Точность на проверочной выборке: 84.0%\n",
            "Эпоха №12   Время обучения: 2.08c   Точность на обучающей выборке: 100.0%    Точность на проверочной выборке: 84.0%\n",
            "Эпоха №13   Время обучения: 2.0c    Точность на обучающей выборке: 100.0%    Точность на проверочной выборке: 84.0%\n",
            "Эпоха №14   Время обучения: 2.43c   Точность на обучающей выборке: 100.0%    Точность на проверочной выборке: 84.5%\n",
            "Эпоха №15   Время обучения: 2.28c   Точность на обучающей выборке: 100.0%    Точность на проверочной выборке: 84.5%\n",
            "\n"
          ]
        },
        {
          "output_type": "display_data",
          "data": {
            "text/plain": [
              "<Figure size 864x432 with 1 Axes>"
            ],
            "image/png": "[encoded data removed]"
          },
          "metadata": {}
        }
      ]
    },
    {
      "cell_type": "code",
      "execution_count": null,
      "metadata": {
        "colab": {
          "base_uri": "https://localhost:8080/"
        },
        "id": "Yv75Vo34Ugnc",
        "outputId": "5b42b883-e8d1-447b-d9ee-e02fe89221a0"
      },
      "outputs": [
        {
          "output_type": "stream",
          "name": "stdout",
          "text": [
            "Негативные     -  24.9 %\n",
            "Позитивные     -  75.1 %\n",
            "\n",
            "Нейросеть думает, что это: Позитивные - 75.1%\n"
          ]
        }
      ],
      "source": [
        "# Демонстрация результата работы нейронной сети\n",
        "demo_ai.test_model(\n",
        "    'Машина супер скоростная. По трассе идет просто отлично! Однозначно брать',\n",
        "    block_length,\n",
        "    block_step\n",
        "    )"
      ]
    },
    {
      "cell_type": "code",
      "source": [
        "# Демонстрация результата работы нейронной сети\n",
        "demo_ai.test_model(\n",
        "    'Самая быстрая красивая мощная', \n",
        "    block_length,\n",
        "    block_step\n",
        "    )"
      ],
      "metadata": {
        "colab": {
          "base_uri": "https://localhost:8080/"
        },
        "id": "M3jlP5svfqBP",
        "outputId": "97625488-4f34-4191-cf08-d07757796cef"
      },
      "execution_count": null,
      "outputs": [
        {
          "output_type": "stream",
          "name": "stdout",
          "text": [
            "Негативные     -  34.44 %\n",
            "Позитивные     -  65.56 %\n",
            "\n",
            "Нейросеть думает, что это: Позитивные - 65.56%\n"
          ]
        }
      ]
    },
    {
      "cell_type": "code",
      "source": [
        "# Демонстрация результата работы нейронной сети\n",
        "demo_ai.test_model(\n",
        "    'Обзор не очень, зеркала маленькие, заднее стекло тоже', \n",
        "    block_length,\n",
        "    block_step\n",
        "    )\n"
      ],
      "metadata": {
        "colab": {
          "base_uri": "https://localhost:8080/"
        },
        "id": "I6axwN1nfwL_",
        "outputId": "cfd1dab6-905d-40c2-dc4d-cd42e12bc027"
      },
      "execution_count": null,
      "outputs": [
        {
          "output_type": "stream",
          "name": "stdout",
          "text": [
            "Негативные     -  74.07 %\n",
            "Позитивные     -  25.93 %\n",
            "\n",
            "Нейросеть думает, что это: Негативные - 74.07%\n"
          ]
        }
      ]
    },
    {
      "cell_type": "markdown",
      "source": [
        "**Эксперимент №8 (Комбинированная)**"
      ],
      "metadata": {
        "id": "6et21uObgZcB"
      }
    },
    {
      "cell_type": "code",
      "source": [
        "# Задание слоев нейронной сети\n",
        "branch_1 = f'Эмбеддинг-50-{vocab_size}-{block_length}\\\n",
        " Выравнивающий\\\n",
        " Полносвязный-16'\n",
        "\n",
        "branch_2 = 'Полносвязный-64\\\n",
        " Полносвязный-32\\\n",
        " Полносвязный-16'\n",
        "\n",
        "branch_3 = 'Полносвязный-32'\n",
        "\n",
        "# Создание модели нейронной сети\n",
        "demo_ai.create_model_combine(branch_1, branch_2, branch_3)"
      ],
      "metadata": {
        "colab": {
          "base_uri": "https://localhost:8080/"
        },
        "outputId": "52b121a3-c9e8-4efd-aab7-c9980681a99c",
        "id": "V-_gnEf1gZcB"
      },
      "execution_count": null,
      "outputs": [
        {
          "output_type": "stream",
          "name": "stdout",
          "text": [
            "\u001b[1mСоздание комбинированной модели нейронной сети\u001b[0m \u001b[92mOk\u001b[0m\n"
          ]
        }
      ]
    },
    {
      "cell_type": "code",
      "source": [
        "# Обучение нейронной сети\n",
        "demo_ai.train_model(epochs=15)"
      ],
      "metadata": {
        "colab": {
          "base_uri": "https://localhost:8080/",
          "height": 671
        },
        "outputId": "4424ed4c-dd11-4509-f8cf-4bcb8caffb0d",
        "id": "BdOr8EWygZcB"
      },
      "execution_count": null,
      "outputs": [
        {
          "output_type": "stream",
          "name": "stdout",
          "text": [
            "Эпоха №1    Время обучения: 2.86c   Точность на обучающей выборке: 90.85%    Точность на проверочной выборке: 81.5%\n",
            "Эпоха №2    Время обучения: 2.04c   Точность на обучающей выборке: 100.0%    Точность на проверочной выборке: 82.0%\n",
            "Эпоха №3    Время обучения: 1.98c   Точность на обучающей выборке: 100.0%    Точность на проверочной выборке: 82.0%\n",
            "Эпоха №4    Время обучения: 2.36c   Точность на обучающей выборке: 100.0%    Точность на проверочной выборке: 82.5%\n",
            "Эпоха №5    Время обучения: 2.02c   Точность на обучающей выборке: 100.0%    Точность на проверочной выборке: 82.5%\n",
            "Эпоха №6    Время обучения: 1.97c   Точность на обучающей выборке: 100.0%    Точность на проверочной выборке: 82.5%\n",
            "Эпоха №7    Время обучения: 1.98c   Точность на обучающей выборке: 100.0%    Точность на проверочной выборке: 82.0%\n",
            "Эпоха №8    Время обучения: 1.98c   Точность на обучающей выборке: 100.0%    Точность на проверочной выборке: 82.0%\n",
            "Эпоха №9    Время обучения: 2.03c   Точность на обучающей выборке: 100.0%    Точность на проверочной выборке: 82.0%\n",
            "Эпоха №10   Время обучения: 1.94c   Точность на обучающей выборке: 100.0%    Точность на проверочной выборке: 82.5%\n",
            "Эпоха №11   Время обучения: 1.98c   Точность на обучающей выборке: 100.0%    Точность на проверочной выборке: 82.5%\n",
            "Эпоха №12   Время обучения: 2.01c   Точность на обучающей выборке: 100.0%    Точность на проверочной выборке: 82.5%\n",
            "Эпоха №13   Время обучения: 1.99c   Точность на обучающей выборке: 100.0%    Точность на проверочной выборке: 82.5%\n",
            "Эпоха №14   Время обучения: 1.96c   Точность на обучающей выборке: 100.0%    Точность на проверочной выборке: 82.5%\n",
            "\u001b[42m\u001b[37mЭпоха №15   Время обучения: 2.0c    Точность на обучающей выборке: 100.0%    Точность на проверочной выборке: 82.5%\u001b[0m\n",
            "\n"
          ]
        },
        {
          "output_type": "display_data",
          "data": {
            "text/plain": [
              "<Figure size 864x432 with 1 Axes>"
            ],
            "image/png": "[encoded data removed]"
          },
          "metadata": {}
        }
      ]
    },
    {
      "cell_type": "code",
      "execution_count": null,
      "metadata": {
        "colab": {
          "base_uri": "https://localhost:8080/"
        },
        "outputId": "c39752ba-079a-4705-a9cd-a11fc780b6bb",
        "id": "mtqdwLMOgZcC"
      },
      "outputs": [
        {
          "output_type": "stream",
          "name": "stdout",
          "text": [
            "Негативные     -  47.13 %\n",
            "Позитивные     -  52.87 %\n",
            "\n",
            "Нейросеть думает, что это: Позитивные - 52.87%\n"
          ]
        }
      ],
      "source": [
        "# Демонстрация результата работы нейронной сети\n",
        "demo_ai.test_model(\n",
        "    'Машина супер скоростная. По трассе идет просто отлично! Однозначно брать',\n",
        "    block_length,\n",
        "    block_step\n",
        "    )"
      ]
    },
    {
      "cell_type": "code",
      "source": [
        "# Демонстрация результата работы нейронной сети\n",
        "demo_ai.test_model(\n",
        "    'Самая быстрая красивая мощная', \n",
        "    block_length,\n",
        "    block_step\n",
        "    )"
      ],
      "metadata": {
        "colab": {
          "base_uri": "https://localhost:8080/"
        },
        "outputId": "40288d05-5e30-43d3-de1d-dc13c180752c",
        "id": "8P_H5-QzgZcC"
      },
      "execution_count": null,
      "outputs": [
        {
          "output_type": "stream",
          "name": "stdout",
          "text": [
            "Негативные     -  54.18 %\n",
            "Позитивные     -  45.82 %\n",
            "\n",
            "Нейросеть думает, что это: Негативные - 54.18%\n"
          ]
        }
      ]
    },
    {
      "cell_type": "code",
      "source": [
        "# Демонстрация результата работы нейронной сети\n",
        "demo_ai.test_model(\n",
        "    'Обзор не очень, зеркала маленькие, заднее стекло тоже', \n",
        "    block_length,\n",
        "    block_step\n",
        "    )\n"
      ],
      "metadata": {
        "colab": {
          "base_uri": "https://localhost:8080/"
        },
        "outputId": "7a0229ec-85bc-4284-9a4b-7cb14c5af5ce",
        "id": "uzZJHBqJgZcC"
      },
      "execution_count": null,
      "outputs": [
        {
          "output_type": "stream",
          "name": "stdout",
          "text": [
            "Негативные     -  77.25 %\n",
            "Позитивные     -  22.75 %\n",
            "\n",
            "Нейросеть думает, что это: Негативные - 77.25%\n"
          ]
        }
      ]
    },
    {
      "cell_type": "markdown",
      "source": [
        "**Эксперимент №9 (Комбинированная)**"
      ],
      "metadata": {
        "id": "hIZdKKsGgZvw"
      }
    },
    {
      "cell_type": "code",
      "source": [
        "# Задание слоев нейронной сети\n",
        "branch_1 = f'Эмбеддинг-100-{vocab_size}-{block_length}\\\n",
        " Выравнивающий\\\n",
        " Полносвязный-32'\n",
        "\n",
        "branch_2 = 'Полносвязный-128\\\n",
        " Полносвязный-64\\\n",
        " Полносвязный-32'\n",
        "\n",
        "branch_3 = 'Полносвязный-32'\n",
        "\n",
        "# Создание модели нейронной сети\n",
        "demo_ai.create_model_combine(branch_1, branch_2, branch_3)"
      ],
      "metadata": {
        "colab": {
          "base_uri": "https://localhost:8080/"
        },
        "outputId": "d5e34cf4-df52-4a8d-9a88-1b2fc951ba3f",
        "id": "j_gKD1AMgZvx"
      },
      "execution_count": null,
      "outputs": [
        {
          "output_type": "stream",
          "name": "stdout",
          "text": [
            "\u001b[1mСоздание комбинированной модели нейронной сети\u001b[0m \u001b[92mOk\u001b[0m\n"
          ]
        }
      ]
    },
    {
      "cell_type": "code",
      "source": [
        "# Обучение нейронной сети\n",
        "demo_ai.train_model(epochs=15)"
      ],
      "metadata": {
        "colab": {
          "base_uri": "https://localhost:8080/",
          "height": 671
        },
        "outputId": "e300b89b-b725-4997-a381-04872ffaf850",
        "id": "uArfplBBgZvx"
      },
      "execution_count": null,
      "outputs": [
        {
          "output_type": "stream",
          "name": "stdout",
          "text": [
            "Эпоха №1    Время обучения: 2.9c    Точность на обучающей выборке: 94.31%    Точность на проверочной выборке: 82.0%\n",
            "Эпоха №2    Время обучения: 2.11c   Точность на обучающей выборке: 100.0%    Точность на проверочной выборке: 84.0%\n",
            "\u001b[42m\u001b[37mЭпоха №3    Время обучения: 2.06c   Точность на обучающей выборке: 100.0%    Точность на проверочной выборке: 84.5%\u001b[0m\n",
            "Эпоха №4    Время обучения: 2.07c   Точность на обучающей выборке: 100.0%    Точность на проверочной выборке: 84.0%\n",
            "Эпоха №5    Время обучения: 2.02c   Точность на обучающей выборке: 100.0%    Точность на проверочной выборке: 84.0%\n",
            "Эпоха №6    Время обучения: 2.04c   Точность на обучающей выборке: 100.0%    Точность на проверочной выборке: 83.5%\n",
            "Эпоха №7    Время обучения: 2.05c   Точность на обучающей выборке: 100.0%    Точность на проверочной выборке: 83.5%\n",
            "Эпоха №8    Время обучения: 2.1c    Точность на обучающей выборке: 100.0%    Точность на проверочной выборке: 83.5%\n",
            "Эпоха №9    Время обучения: 2.02c   Точность на обучающей выборке: 100.0%    Точность на проверочной выборке: 84.0%\n",
            "Эпоха №10   Время обучения: 2.03c   Точность на обучающей выборке: 100.0%    Точность на проверочной выборке: 84.0%\n",
            "Эпоха №11   Время обучения: 2.69c   Точность на обучающей выборке: 100.0%    Точность на проверочной выборке: 84.0%\n",
            "Эпоха №12   Время обучения: 2.04c   Точность на обучающей выборке: 100.0%    Точность на проверочной выборке: 84.0%\n",
            "Эпоха №13   Время обучения: 2.06c   Точность на обучающей выборке: 100.0%    Точность на проверочной выборке: 84.0%\n",
            "Эпоха №14   Время обучения: 2.06c   Точность на обучающей выборке: 100.0%    Точность на проверочной выборке: 84.0%\n",
            "Эпоха №15   Время обучения: 2.06c   Точность на обучающей выборке: 100.0%    Точность на проверочной выборке: 84.0%\n",
            "\n"
          ]
        },
        {
          "output_type": "display_data",
          "data": {
            "text/plain": [
              "<Figure size 864x432 with 1 Axes>"
            ],
            "image/png": "[encoded data removed]"
          },
          "metadata": {}
        }
      ]
    },
    {
      "cell_type": "code",
      "execution_count": null,
      "metadata": {
        "colab": {
          "base_uri": "https://localhost:8080/"
        },
        "outputId": "f40c6d57-1768-4649-9e06-6c4ef45490b0",
        "id": "W8LmdydggZvx"
      },
      "outputs": [
        {
          "output_type": "stream",
          "name": "stdout",
          "text": [
            "Негативные     -  14.06 %\n",
            "Позитивные     -  85.94 %\n",
            "\n",
            "Нейросеть думает, что это: Позитивные - 85.94%\n"
          ]
        }
      ],
      "source": [
        "# Демонстрация результата работы нейронной сети\n",
        "demo_ai.test_model(\n",
        "    'Машина супер скоростная. По трассе идет просто отлично! Однозначно брать',\n",
        "    block_length,\n",
        "    block_step\n",
        "    )"
      ]
    },
    {
      "cell_type": "code",
      "source": [
        "# Демонстрация результата работы нейронной сети\n",
        "demo_ai.test_model(\n",
        "    'Самая быстрая красивая мощная', \n",
        "    block_length,\n",
        "    block_step\n",
        "    )"
      ],
      "metadata": {
        "colab": {
          "base_uri": "https://localhost:8080/"
        },
        "outputId": "7ded2ae8-f801-48ff-a4cd-998ef020e354",
        "id": "urwlA-6lgZvx"
      },
      "execution_count": null,
      "outputs": [
        {
          "output_type": "stream",
          "name": "stdout",
          "text": [
            "Негативные     -  23.48 %\n",
            "Позитивные     -  76.52 %\n",
            "\n",
            "Нейросеть думает, что это: Позитивные - 76.52%\n"
          ]
        }
      ]
    },
    {
      "cell_type": "code",
      "source": [
        "# Демонстрация результата работы нейронной сети\n",
        "demo_ai.test_model(\n",
        "    'Обзор не очень, зеркала маленькие, заднее стекло тоже', \n",
        "    block_length,\n",
        "    block_step\n",
        "    )\n"
      ],
      "metadata": {
        "colab": {
          "base_uri": "https://localhost:8080/"
        },
        "outputId": "832c35ee-8751-457e-89fd-ee352158b555",
        "id": "tou7GL9cgZvx"
      },
      "execution_count": null,
      "outputs": [
        {
          "output_type": "stream",
          "name": "stdout",
          "text": [
            "Негативные     -  48.31 %\n",
            "Позитивные     -  51.69 %\n",
            "\n",
            "Нейросеть думает, что это: Позитивные - 51.69%\n"
          ]
        }
      ]
    },
    {
      "cell_type": "markdown",
      "source": [
        "**Эксперимент №10 (Комбинированная)**"
      ],
      "metadata": {
        "id": "reGhGQIihP7D"
      }
    },
    {
      "cell_type": "code",
      "source": [
        "# Задание слоев нейронной сети\n",
        "branch_1 = f'Эмбеддинг-100-{vocab_size}-{block_length}\\\n",
        " Выравнивающий\\\n",
        " Полносвязный-100'\n",
        "\n",
        "branch_2 = 'Полносвязный-1024\\\n",
        " Полносвязный-256\\\n",
        " Полносвязный-64'\n",
        "\n",
        "branch_3 = 'Полносвязный-100'\n",
        "\n",
        "# Создание модели нейронной сети\n",
        "demo_ai.create_model_combine(branch_1, branch_2, branch_3)"
      ],
      "metadata": {
        "colab": {
          "base_uri": "https://localhost:8080/"
        },
        "outputId": "b2b5063c-b289-42b4-f39c-83864eaad30b",
        "id": "MSVgQRkNhP7D"
      },
      "execution_count": null,
      "outputs": [
        {
          "output_type": "stream",
          "name": "stdout",
          "text": [
            "\u001b[1mСоздание комбинированной модели нейронной сети\u001b[0m \u001b[92mOk\u001b[0m\n"
          ]
        }
      ]
    },
    {
      "cell_type": "code",
      "source": [
        "# Обучение нейронной сети\n",
        "demo_ai.train_model(epochs=15)"
      ],
      "metadata": {
        "colab": {
          "base_uri": "https://localhost:8080/",
          "height": 671
        },
        "outputId": "86c62b28-22b8-4919-cfce-d0da970bde2b",
        "id": "-KKH2OlfhP7E"
      },
      "execution_count": null,
      "outputs": [
        {
          "output_type": "stream",
          "name": "stdout",
          "text": [
            "Эпоха №1    Время обучения: 3.72c   Точность на обучающей выборке: 96.45%    Точность на проверочной выборке: 83.5%\n",
            "Эпоха №2    Время обучения: 2.76c   Точность на обучающей выборке: 100.0%    Точность на проверочной выборке: 83.5%\n",
            "Эпоха №3    Время обучения: 2.8c    Точность на обучающей выборке: 100.0%    Точность на проверочной выборке: 84.0%\n",
            "Эпоха №4    Время обучения: 2.81c   Точность на обучающей выборке: 100.0%    Точность на проверочной выборке: 84.0%\n",
            "Эпоха №5    Время обучения: 2.76c   Точность на обучающей выборке: 100.0%    Точность на проверочной выборке: 84.0%\n",
            "Эпоха №6    Время обучения: 3.35c   Точность на обучающей выборке: 100.0%    Точность на проверочной выборке: 84.0%\n",
            "Эпоха №7    Время обучения: 2.82c   Точность на обучающей выборке: 100.0%    Точность на проверочной выборке: 84.0%\n",
            "Эпоха №8    Время обучения: 3.69c   Точность на обучающей выборке: 100.0%    Точность на проверочной выборке: 84.0%\n",
            "Эпоха №9    Время обучения: 2.8c    Точность на обучающей выборке: 100.0%    Точность на проверочной выборке: 84.0%\n",
            "Эпоха №10   Время обучения: 2.83c   Точность на обучающей выборке: 100.0%    Точность на проверочной выборке: 84.0%\n",
            "Эпоха №11   Время обучения: 2.83c   Точность на обучающей выборке: 100.0%    Точность на проверочной выборке: 84.0%\n",
            "Эпоха №12   Время обучения: 2.81c   Точность на обучающей выборке: 100.0%    Точность на проверочной выборке: 84.0%\n",
            "Эпоха №13   Время обучения: 2.77c   Точность на обучающей выборке: 100.0%    Точность на проверочной выборке: 84.0%\n",
            "Эпоха №14   Время обучения: 2.86c   Точность на обучающей выборке: 100.0%    Точность на проверочной выборке: 84.0%\n",
            "\u001b[42m\u001b[37mЭпоха №15   Время обучения: 2.84c   Точность на обучающей выборке: 100.0%    Точность на проверочной выборке: 84.0%\u001b[0m\n",
            "\n"
          ]
        },
        {
          "output_type": "display_data",
          "data": {
            "text/plain": [
              "<Figure size 864x432 with 1 Axes>"
            ],
            "image/png": "[encoded data removed]"
          },
          "metadata": {}
        }
      ]
    },
    {
      "cell_type": "code",
      "execution_count": null,
      "metadata": {
        "colab": {
          "base_uri": "https://localhost:8080/"
        },
        "outputId": "40ebc124-417f-498c-9fad-581e787292d7",
        "id": "T2XIfvcfhP7E"
      },
      "outputs": [
        {
          "output_type": "stream",
          "name": "stdout",
          "text": [
            "Негативные     -  17.46 %\n",
            "Позитивные     -  82.54 %\n",
            "\n",
            "Нейросеть думает, что это: Позитивные - 82.54%\n"
          ]
        }
      ],
      "source": [
        "# Демонстрация результата работы нейронной сети\n",
        "demo_ai.test_model(\n",
        "    'Машина супер скоростная. По трассе идет просто отлично! Однозначно брать',\n",
        "    block_length,\n",
        "    block_step\n",
        "    )"
      ]
    },
    {
      "cell_type": "code",
      "source": [
        "# Демонстрация результата работы нейронной сети\n",
        "demo_ai.test_model(\n",
        "    'Самая быстрая красивая мощная', \n",
        "    block_length,\n",
        "    block_step\n",
        "    )"
      ],
      "metadata": {
        "colab": {
          "base_uri": "https://localhost:8080/"
        },
        "outputId": "12ee527a-eb7e-4515-fe88-0cc18e51452e",
        "id": "-wxev4r3hP7E"
      },
      "execution_count": null,
      "outputs": [
        {
          "output_type": "stream",
          "name": "stdout",
          "text": [
            "Негативные     -  35.57 %\n",
            "Позитивные     -  64.43 %\n",
            "\n",
            "Нейросеть думает, что это: Позитивные - 64.43%\n"
          ]
        }
      ]
    },
    {
      "cell_type": "code",
      "source": [
        "# Демонстрация результата работы нейронной сети\n",
        "demo_ai.test_model(\n",
        "    'Обзор не очень, зеркала маленькие, заднее стекло тоже', \n",
        "    block_length,\n",
        "    block_step\n",
        "    )\n"
      ],
      "metadata": {
        "colab": {
          "base_uri": "https://localhost:8080/"
        },
        "outputId": "54e61b8f-713a-4c2c-bb70-cd04765e3ff2",
        "id": "0jAwpX1RhP7E"
      },
      "execution_count": null,
      "outputs": [
        {
          "output_type": "stream",
          "name": "stdout",
          "text": [
            "Негативные     -  72.19 %\n",
            "Позитивные     -  27.81 %\n",
            "\n",
            "Нейросеть думает, что это: Негативные - 72.19%\n"
          ]
        }
      ]
    },
    {
      "cell_type": "markdown",
      "metadata": {
        "id": "qzZ2EJaYowPa"
      },
      "source": [
        "## **Определение стоимости квартиры в Москве**"
      ]
    },
    {
      "cell_type": "code",
      "source": [
        "# Загрузка датасета\n",
        "demo_ai.load_dataset('Квартиры')"
      ],
      "metadata": {
        "colab": {
          "base_uri": "https://localhost:8080/"
        },
        "id": "ct6wa28GhfsQ",
        "outputId": "86455c3b-0acd-40df-eb58-459387d8f9e2"
      },
      "execution_count": 8,
      "outputs": [
        {
          "output_type": "stream",
          "name": "stdout",
          "text": [
            "\u001b[1mЗагрузка датасета\u001b[0m \u001b[92mOk\u001b[0m\n",
            "\u001b[94mИфно:\u001b[0m\n",
            "    Вы скачали информационную базу стоимости квартир в г. Москва. База содержит информацию о 62504 квартирах\n"
          ]
        }
      ]
    },
    {
      "cell_type": "code",
      "source": [
        "# Вывод примеров\n",
        "demo_ai.samples()"
      ],
      "metadata": {
        "colab": {
          "base_uri": "https://localhost:8080/"
        },
        "id": "tzuIFfQOjMLO",
        "outputId": "a6f40fe5-d65c-4eb5-b0ab-2abfa93fa139"
      },
      "execution_count": 9,
      "outputs": [
        {
          "output_type": "stream",
          "name": "stdout",
          "text": [
            "* Пример объявления: \n",
            "\n",
            "Количество комнат:  1\n",
            "Площадь квартиры:   28/?/?\n",
            "Метро/ЖД станция:   Столбово м.\n",
            "От станции:         4т\n",
            "Дом:                1/5 П\n",
            "Балкон:             \n",
            "Санузел:            \n",
            "Примечание:         Прoдаётcя oднoкомнaтнaя кваpтиpa в пocёлкe Ватутинки , Mоcква. Зeлёный квaртaл, в пешeй дoступноcти школы, дeтcкий caд и магaзины , рaзвитaя инфpacтруктурa. B скором вpемeни будeт метро.\n",
            "-----------\n",
            "Цена квартиры:     5 млн  99 тыс рублей\n",
            "---------------------------------------------------------------------------------------------------------------\n",
            "\n",
            "* Пример объявления: \n",
            "\n",
            "Количество комнат:  1\n",
            "Площадь квартиры:   39/?/10\n",
            "Метро/ЖД станция:   Столбово м.\n",
            "От станции:         nan\n",
            "Дом:                3/12 М\n",
            "Балкон:             \n",
            "Санузел:            \n",
            "Примечание:         ВАТУТИНКИ. Квартира в НОВОСТРОЙКЕ. НОВАЯ МОСКВА. ПРОПИСКА МОСКВА. ЖК КОМФОРТ КЛАССА. МЕТРО скоро. ПЕШКОМ. СКОРО. ИПОТЕКА. МОЖНО С ОТДЕЛКОЙ. ДДУ ФЗ 214. ОБРАЩАЙТЕСЬ.\n",
            "-----------\n",
            "Цена квартиры:     3 млн  350 тыс рублей\n",
            "---------------------------------------------------------------------------------------------------------------\n",
            "\n",
            "* Пример объявления: \n",
            "\n",
            "Количество комнат:  1\n",
            "Площадь квартиры:   31/?/?\n",
            "Метро/ЖД станция:   Саларьево м.\n",
            "От станции:         29т\n",
            "Дом:                2/5 П\n",
            "Балкон:             Б\n",
            "Санузел:            Р\n",
            "Примечание:         Пpoдаeтся уютная 1-комнатная квартирa 31 кв.м., в экологически-чистом районе- Новая Мocква, пос.Птичное. Квартира в хорошем, жилом состоянии с удобной планировкой. Имеется специально выделенная парковочная зона для автомобилей. Район с развитой инфраструктурой в экологическом чистом районе Москвы: детские сады, школы, спортивный клуб, лесопарковая зона, речка, магазины и ТЦ. Удобная транспортное сообщение: остановки для общественного транспорта в пешей доступности. До метро Саларьево, Теплый стан (Румянцево) 30-40 мин. транспортом.Только произвели ремонт автодорог. Один собственник более пяти лет, готовы сразу выйти на сделку. Свободная продажа. Компания Этажи гарантирует своим клиентам безопасность сделки, в рамках которой Покупатель получает сертификат о финансовой гарантии в размере 10 млн. рублей. Номер в базе: 3278102.\n",
            "-----------\n",
            "Цена квартиры:     4 млн  0 тыс рублей\n",
            "---------------------------------------------------------------------------------------------------------------\n",
            "\n",
            "* Пример объявления: \n",
            "\n",
            "Количество комнат:  1\n",
            "Площадь квартиры:   40.7/16.2/10\n",
            "Метро/ЖД станция:   Царицыно м.\n",
            "От станции:         9п\n",
            "Дом:                10/16 М\n",
            "Балкон:             \n",
            "Санузел:            С\n",
            "Примечание:         Арт. 15753756 Продается 1-х комнатная квартира 40,7 кв.м. 9 минут пешком до метро Царицыно. Светлая квартира функциональной планировки на 10 этаже нового монолитного дома. Просторный балкон. Окна выхoдят нa paзныe cтopoны дoмa, во двор и на тихую зелёную улицу с минимальным уровнем активности. Входные группы разделяются на зоны для встреч и отдыха. Подземный паркинг, а также парковочные места на придомовой территории. Во дворе ландшафтный дизайн. В пешей доступности от ЖК работают магазины, сетевой супермаркет, несколько школ и детских садов, спортивные центры, парковые зоны и музей-заповедник \"Царицыно\". Местность одна из самых экологически чистых в мегаполисе благодаря близости Аршиновского парка, Бирюлевского дендропарка и парка Сосенки.\n",
            "-----------\n",
            "Цена квартиры:     8 млн  449 тыс рублей\n",
            "---------------------------------------------------------------------------------------------------------------\n",
            "\n",
            "* Пример объявления: \n",
            "\n",
            "Количество комнат:  1\n",
            "Площадь квартиры:   43.1/15.1/18.9\n",
            "Метро/ЖД станция:   Ольховая м.\n",
            "От станции:         2т\n",
            "Дом:                10/16 М\n",
            "Балкон:             Л\n",
            "Санузел:            С\n",
            "Примечание:         ID в ИМЛС: 15782228 Офис продаж \"Скандинавия\". Комнаты - изолированные. Серия дома - Индивидуальный проект. Квартира с отделкой и мебелью в подарок! Ипотека 5,17%! По всем вопросам звоните в офис продаж, наши менеджеры вам все расскажут! Продается 1-комн. квартира с отделкой в ЖК \"Скандинавия\" на 10 этаже. Общая площадь: 43.1 кв.м., жилая: 15.1 кв.м., площадь просторной кухни: 18.9 кв.м. В квартире одна лоджия, один совмещенный санузел. Высота потолков 2.80 м. В квартире будет выполнена полная отделка по одному из пяти авторских дизайн-проектов \"Скандинавское утро\", \"Классический стиль\", \"Вечер в Скандинавии\", \"Зимняя ночь\" или \"Летняя ночь\". Все варианты разработаны так, чтобы стать достаточной основой для любых идей! Отделка будет выполнена современными качественными материалами, уже выполнена вся электроразводка, установлены концевые выключатели и розетки, смонтированы межкомнатные двери, на полу ламинат и плитка, установлена вся сантехника! Посмотрите на фотографиях, как выглядит этот вариант отделки. Дом монолитный, черырехподъездный, переменной этажности, от 8 до 16 этажей. Квартира находится в 1-й секции высотой 16 этажей. На этаже 5 квартир. В подъезде 1 пассажирский и 1 грузовой лифт. Начало строительства - 2 квартал 2019 года. Окончание строительства - 3 квартал 2020 года. Оформление сделки по договору долевого участия. Артикул квартиры по базе застройщика 23К-5.1-43. В шаговой доступности от жилого комплекса находится станция метро \"Столбово\" (1.6 км). Жилой комплекс \"Скандинавия\" находится в 6,5 км от МКАД на юго-западе. Несмотря на близость к трем станциям метро и трем крупным шоссе, жилые дома защищены от суеты и шума мегаполиса. Бутовский лесопарк и небольшие водоемы создают обособленное пространство для гармоничной жизни и спокойного отдыха в окружении природы. Микрорайон возводится в уже сложившемся районе Новой Москвы, где для детей уже построены детские сады и школа, а для взрослых работают магазины, банки и кафе. Дух Скандинавии воссоздает в жилом комплексе семейный парк отдыха с огромным кораблем викингов, замком и панда-парком. Квартира продается непосредственно застройщиком \"А101\", что гарантирует Вам лучшие финансовые условия и максимальную безопасность сделки. Аккредитация в банках: \"Сбербанк России\", АО \"Райффайзенбанк\", ПАО \"Банк Уралсиб\", ПАО \"Газпромбанк\", ПАО Банк \"ВТБ\" и других. (AQID01055737)\n",
            "-----------\n",
            "Цена квартиры:     6 млн  680 тыс рублей\n",
            "---------------------------------------------------------------------------------------------------------------\n",
            "\n"
          ]
        }
      ]
    },
    {
      "cell_type": "code",
      "source": [
        "# Создание обучающей и проверочной выборок\n",
        "demo_ai.create_sets()"
      ],
      "metadata": {
        "colab": {
          "base_uri": "https://localhost:8080/"
        },
        "id": "BQMyyFKtjy_m",
        "outputId": "a849f697-3914-4d4f-cd74-681770ca5e65"
      },
      "execution_count": 10,
      "outputs": [
        {
          "output_type": "stream",
          "name": "stdout",
          "text": [
            "\n",
            "Размер созданных выборок:\n",
            "Ветвь 1\n",
            "  Обучающая выборка: (49954, 109)\n",
            "  Метки обучающей выборки: (49954, 1)\n",
            "  Проверочная выборка: (12550, 109)\n",
            "  Метки проверочной выборки: (12550, 1)\n",
            "Ветвь 2\n",
            "  Обучающая выборка: (49954, 2000)\n",
            "  Метки обучающей выборки: (49954, 1)\n",
            "  Проверочная выборка: (12550, 2000)\n",
            "  Метки проверочной выборки: (12550, 1)\n",
            "\n"
          ]
        }
      ]
    },
    {
      "cell_type": "code",
      "source": [
        "# Задание слоев нейронной сети\n",
        "branch_1 = f'Полносвязный-100\\\n",
        " Полносвязный-50'\n",
        "\n",
        "branch_2 = 'Полносвязный-500'\n",
        "\n",
        "finally_branch_3 = 'Полносвязный-1000\\\n",
        " Полносвязный-500\\\n",
        " Полносвязный-100\\\n",
        " Полносвязный-1'\n",
        "\n",
        "# Создание модели нейронной сети\n",
        "demo_ai.create_model_combine(branch_1, branch_2, finally_branch_3)"
      ],
      "metadata": {
        "colab": {
          "base_uri": "https://localhost:8080/"
        },
        "id": "xK1Ujg2Ll1cP",
        "outputId": "b4b39507-c6c0-4822-a1d7-f5cde473c891"
      },
      "execution_count": 11,
      "outputs": [
        {
          "output_type": "stream",
          "name": "stdout",
          "text": [
            "\u001b[1mСоздание комбинированной модели нейронной сети\u001b[0m "
          ]
        },
        {
          "output_type": "stream",
          "name": "stderr",
          "text": [
            "WARNING:absl:`lr` is deprecated, please use `learning_rate` instead, or use the legacy optimizer, e.g.,tf.keras.optimizers.legacy.Nadam.\n"
          ]
        },
        {
          "output_type": "stream",
          "name": "stdout",
          "text": [
            "\u001b[92mOk\u001b[0m\n"
          ]
        }
      ]
    },
    {
      "cell_type": "code",
      "source": [
        "# Обучение нейронной сети\n",
        "demo_ai.train_model(epochs=40)"
      ],
      "metadata": {
        "colab": {
          "base_uri": "https://localhost:8080/",
          "height": 183
        },
        "id": "x0fW7ZAGsVYr",
        "outputId": "7fc6b73e-259e-482a-8e7c-50b23b01257e"
      },
      "execution_count": 1,
      "outputs": [
        {
          "output_type": "error",
          "ename": "NameError",
          "evalue": "ignored",
          "traceback": [
            "\u001b[0;31m---------------------------------------------------------------------------\u001b[0m",
            "\u001b[0;31mNameError\u001b[0m                                 Traceback (most recent call last)",
            "\u001b[0;32m<ipython-input-1-73377f511925>\u001b[0m in \u001b[0;36m<module>\u001b[0;34m\u001b[0m\n\u001b[1;32m      1\u001b[0m \u001b[0;31m# Обучение нейронной сети\u001b[0m\u001b[0;34m\u001b[0m\u001b[0;34m\u001b[0m\u001b[0;34m\u001b[0m\u001b[0m\n\u001b[0;32m----> 2\u001b[0;31m \u001b[0mdemo_ai\u001b[0m\u001b[0;34m.\u001b[0m\u001b[0mtrain_model\u001b[0m\u001b[0;34m(\u001b[0m\u001b[0mepochs\u001b[0m\u001b[0;34m=\u001b[0m\u001b[0;36m40\u001b[0m\u001b[0;34m)\u001b[0m\u001b[0;34m\u001b[0m\u001b[0;34m\u001b[0m\u001b[0m\n\u001b[0m",
            "\u001b[0;31mNameError\u001b[0m: name 'demo_ai' is not defined"
          ]
        }
      ]
    },
    {
      "cell_type": "code",
      "metadata": {
        "id": "EwPJFLgxKuMa"
      },
      "source": [
        "#@title Тестирование модели: выберите параметры\n",
        "метро = \"\\u041E\\u043B\\u044C\\u0445\\u043E\\u0432\\u0430\\u044F \\u043C.\" #@param ['Авиамоторная м.', 'Автозаводская м.', 'Автозаводская м. (МЦК)', 'Академическая м.', 'Алабушево станция', 'Александровский Сад м.', 'Алексеевская м.', 'Алма-Атинская м.', 'Алтуфьево м.', 'Андроновка м. (МЦК)', 'Аннино м.', 'Апрелевка станция', 'Арбатская м.', 'Аэропорт (старая) станция', 'Аэропорт Внуково станция', 'Аэропорт м.', 'Бабушкинская м.', 'Багратионовская м.', 'Балтийская м. (МЦК)', 'Баррикадная м.', 'Бауманская м.', 'Беговая м.', 'Бекасово-1 станция', 'Белокаменная м. (МЦК)', 'Беломорская м.', 'Белорусская м.', 'Беляево м.', 'Бибирево м.', 'Библиотека им.Ленина м.', 'Битцевский парк м.', 'Борисово м.', 'Боровицкая м.', 'Боровское шоссе м.', 'Ботанический сад м.', 'Ботанический сад м. (МЦК)', 'Братиславская м.', 'Бульвар Адмирала Ушакова м.', 'Бульвар Дмитрия Донского м.', 'Бульвар Рокоссовского м.', 'Бульвар Рокоссовского м. (МЦК)', 'Бунинская аллея м.', 'Бутырская м.', 'ВДНХ м.', 'Варшавская м.', 'Верхние Котлы м. (МЦК)', 'Верхние Лихоборы м.', 'Весенняя станция', 'Владыкино м.', 'Внуково станция', 'Водный стадион м.', 'Войковская м.', 'Волгоградский проспект м.', 'Волжская м.', 'Волоколамская м.', 'Воробьевы Горы м.', 'Выставочная м.', 'Выхино м.', 'Говорово м.', 'Гривно станция', 'Дачная станция', 'Деловой центр м.', 'Динамо м.', 'Дмитровская м.', 'Добрынинская м.', 'Домодедовская м.', 'Достоевская м.', 'Дубровка м.', 'Дубровка м. (МЦК)', 'Жулебино м.', 'ЗИЛ м. (МЦК)', 'Зорге м. (МЦК)', 'Зябликово м.', 'Измайлово м. (МЦК)', 'Измайловская м.', 'Калужская м.', 'Кантемировская м.', 'Каховская м.', 'Каширская м.', 'Киевская м.', 'Китай-Город м.', 'Кожуховская м.', 'Кокошкино станция', 'Коломенская м.', 'Колхозная станция', 'Коммунарка м.', 'Комсомольская м.', 'Коньково м.', 'Коптево м. (МЦК)', 'Косино м.', 'Котельники м.', 'Красногвардейская м.', 'Краснопресненская м.', 'Красносельская м.', 'Красные ворота м.', 'Крекшино станция', 'Крестьянская Застава м.', 'Кропоткинская м.', 'Крылатское м.', 'Крымская м. (МЦК)', 'Кузнецкий мост м.', 'Кузьминки м.', 'Кунцевская м.', 'Курская м.', 'Кутузовская м.', 'Кутузовская м. (МЦК)', 'Ленинский проспект м.', 'Лермонтовский проспект м.', 'Лесопарковая м.', 'Лихоборы м. (МЦК)', 'Локомотив м. (МЦК)', 'Ломоносовский проспект м.', 'Лубянка м.', 'Лужники м. (МЦК)', 'Лухмановская м.', 'Львовская станция', 'Люблино м.', 'Марксистская м.', 'Марьина Роща м.', 'Марьино м.', 'Маяковская м.', 'Медведково м.', 'Международная м.', 'Менделеевская м.', 'Минская м.', 'Митино м.', 'Мичуринец станция', 'Мичуринский проспект м.', 'Молодежная м.', 'Мякинино м.', 'Нагатинская м.', 'Нагорная м.', 'Нахимовский проспект м.', 'Некрасовка м.', 'Нижегородская м. (МЦК)', 'Нижегородская улица м.', 'Новогиреево м.', 'Новокосино м.', 'Новокузнецкая м.', 'Новопеределкино м.', 'Новослободская м.', 'Новохохловская м. (МЦК)', 'Новоясеневская м.', 'Новые Черемушки м.', 'Озерная м.', 'Окружная м.', 'Окружная м. (МЦК)', 'Окская улица м.', 'Октябрьская м.', 'Октябрьское поле м.', 'Ольховая м.', 'Орехово м.', 'Отрадное м.', 'Охотный ряд м.', 'Павелецкая м.', 'Панфиловская м. (МЦК)', 'Парк Победы м.', 'Парк культуры м.', 'Партизанская м.', 'Первомайская м.', 'Перово м.', 'Петровский парк м.', 'Петровско-Разумовская м.', 'Печатники м.', 'Пионерская м.', 'Планерная м.', 'Площадь Гагарина м. (МЦК)', 'Площадь Ильича м.', 'Площадь Революции м.', 'Победа станция', 'Подольск станция', 'Полежаевская м.', 'Полянка м.', 'Пражская м.', 'Преображенская площадь м.', 'Прокшино м.', 'Пролетарская м.', 'Проспект Вернадского м.', 'Проспект Мира м.', 'Профсоюзная м.', 'Пушкинская м.', 'Пятницкое шоссе м.', 'Раменки м.', 'Рассказовка м.', 'Рассудово станция', 'Речной вокзал м.', 'Рижская м.', 'Римская м.', 'Ростокино м. (МЦК)', 'Румянцево м.', 'Рязанский проспект м.', 'Савеловская м.', 'Савеловская метро', 'Саларьево м.', 'Свиблово м.', 'Севастопольская м.', 'Селигерская м.', 'Семеновская м.', 'Серпуховская м.', 'Силикатная станция', 'Славянский бульвар м.', 'Смоленская м.', 'Сокол м.', 'Соколиная Гора м. (МЦК)', 'Сокольники м.', 'Солнцево м.', 'Спартак м.', 'Спортивная м.', 'Сретенский бульвар м.', 'Стахановская м.', 'Столбово м.', 'Стрешнево м. (МЦК)', 'Строгино м.', 'Студенческая м.', 'Сухаревская м.', 'Сходненская м.', 'Таганская м.', 'Тверская м.', 'Театральная м.', 'Текстильщики м.', 'Теплый стан м.', 'Технопарк м.', 'Тимирязевская м.', 'Толстопальцево станция', 'Третьяковская м.', 'Тропарево м.', 'Трубная м.', 'Тульская м.', 'Тургеневская м.', 'Тушинская м.', 'Угрешская м. (МЦК)', 'Улица 1905 года м.', 'Улица Академика Янгеля м.', 'Улица Горчакова м.', 'Улица Дмитриевского м.', 'Улица Скобелевская м.', 'Улица Старокачаловская м.', 'Университет м.', 'Филатов луг м.', 'Филевский парк м.', 'Фили м.', 'Фонвизинская м.', 'Фрунзенская м.', 'Ховрино м.', 'Хорошево м. (МЦК)', 'Хорошевское м.', 'ЦСКА м.', 'Царицыно м.', 'Цветной бульвар м.', 'Черкизовская м.', 'Чертановская м.', 'Чеховская м.', 'Чистые пруды м.', 'Чкаловская м.', 'Шаболовская м.', 'Шелепиха м.', 'Шелепиха м. (МЦК)', 'Шипиловская м.', 'Шоссе Энтузиастов м.', 'Шоссе Энтузиастов м. (МЦК)', 'Щелковская м.', 'Щербинка станция', 'Щукинская м.', 'Электрозаводская м.', 'Юго-Восточная м.', 'Юго-Западная м.', 'Южная м.', 'Ясенево м.']\n",
        "до_станции =  25#@param {type:\"integer\"}\n",
        "способ_передвижения = \"\\u0442\\u0440\\u0430\\u043D\\u0441\\u043F\\u043E\\u0440\\u0442\" #@param ['пешком', 'транспорт']\n",
        "этаж =  2#@param {type:\"integer\"}\n",
        "всего_этажей =  3#@param {type:\"integer\"}\n",
        "тип_балкона = 'Л' #@param ['Л', 'Б', '2Б', '-', '2Б2Л', 'БЛ', '3Б', '2Л', 'Эрк', 'Б2Л', 'ЭркЛ', '3Л', '4Л', '*Л', '*Б']\n",
        "тип_санузла = '\\u0421' #@param ['2', 'Р', 'С', '-', '2С', '+', '4Р', '2Р', '3С', '4С', '4', '3', '3Р']\n",
        "площадь = 52 #@param {type:\"number\"}\n",
        "описание = '\\u043F\\u0440\\u0435\\u043A\\u0440\\u0430\\u0441\\u043D\\u0430\\u044F \\u043A\\u0432\\u0430\\u0440\\u0442\\u0438\\u0440\\u0430 \\u0440\\u044F\\u0434\\u043E\\u043C \\u0441 \\u043F\\u0430\\u0440\\u043A\\u043E\\u043C \\u0441 \\u0431\\u043E\\u043B\\u044C\\u0448\\u0438\\u043C \\u043A\\u043E\\u0440\\u0438\\u0434\\u043E\\u0440\\u043E\\u043C \\u0438 \\u0431\\u043E\\u043B\\u044C\\u0448\\u043E\\u0439 \\u043B\\u043E\\u0434\\u0436\\u0438\\u0435\\u0439, \\u043A\\u0443\\u0445\\u043D\\u044F \\u0431\\u043E\\u043B\\u044C\\u0448\\u0430\\u044F 15 \\u043A\\u0432\\u0430\\u0434\\u0440\\u0430\\u0442\\u043D\\u044B\\u0445 \\u043C\\u0435\\u0442\\u0440\\u043E\\u0432, \\u043A\\u043E\\u043C\\u043D\\u0430\\u0442\\u0430 20 \\u043A\\u0432\\u0430\\u0434\\u0440\\u0430\\u0442\\u043D\\u044B\\u0445 \\u043C\\u0435\\u0442\\u0440\\u043E\\u0432. \\u0447\\u0438\\u0441\\u0442\\u044B\\u0439 \\u0432\\u043E\\u0437\\u0434\\u0443\\u0445' #@param {type:\"string\"}"
      ],
      "execution_count": 2,
      "outputs": []
    },
    {
      "cell_type": "code",
      "source": [
        "# Демонстрация результата работы нейронной сети\n",
        "demo_ai.test_model(\n",
        "    метро, \n",
        "    до_станции, \n",
        "    способ_передвижения, \n",
        "    этаж, \n",
        "    всего_этажей, \n",
        "    тип_балкона, \n",
        "    тип_санузла, \n",
        "    площадь, \n",
        "    описание\n",
        "    )"
      ],
      "metadata": {
        "colab": {
          "base_uri": "https://localhost:8080/",
          "height": 235
        },
        "id": "Wp7oKQSxtc3r",
        "outputId": "144edc7f-06ec-4197-d046-1a8b986783f6"
      },
      "execution_count": 4,
      "outputs": [
        {
          "output_type": "error",
          "ename": "NameError",
          "evalue": "ignored",
          "traceback": [
            "\u001b[0;31m---------------------------------------------------------------------------\u001b[0m",
            "\u001b[0;31mNameError\u001b[0m                                 Traceback (most recent call last)",
            "\u001b[0;32m<ipython-input-4-2630077e861a>\u001b[0m in \u001b[0;36m<module>\u001b[0;34m\u001b[0m\n\u001b[1;32m      1\u001b[0m \u001b[0;31m# Демонстрация результата работы нейронной сети\u001b[0m\u001b[0;34m\u001b[0m\u001b[0;34m\u001b[0m\u001b[0;34m\u001b[0m\u001b[0m\n\u001b[0;32m----> 2\u001b[0;31m demo_ai.test_model(\n\u001b[0m\u001b[1;32m      3\u001b[0m     \u001b[0mметро\u001b[0m\u001b[0;34m,\u001b[0m\u001b[0;34m\u001b[0m\u001b[0;34m\u001b[0m\u001b[0m\n\u001b[1;32m      4\u001b[0m     \u001b[0mдо_станции\u001b[0m\u001b[0;34m,\u001b[0m\u001b[0;34m\u001b[0m\u001b[0;34m\u001b[0m\u001b[0m\n\u001b[1;32m      5\u001b[0m     \u001b[0mспособ_передвижения\u001b[0m\u001b[0;34m,\u001b[0m\u001b[0;34m\u001b[0m\u001b[0;34m\u001b[0m\u001b[0m\n",
            "\u001b[0;31mNameError\u001b[0m: name 'demo_ai' is not defined"
          ]
        }
      ]
    },
    {
      "cell_type": "markdown",
      "source": [
        "## **Подбор кандидата на должность менеджера по продажам**"
      ],
      "metadata": {
        "id": "Sl_v3FFtt8Rb"
      }
    },
    {
      "cell_type": "code",
      "source": [
        "# Загрузка датасета\n",
        "demo_ai.load_dataset('Вакансии')"
      ],
      "metadata": {
        "colab": {
          "base_uri": "https://localhost:8080/"
        },
        "id": "6Z06bMZAv826",
        "outputId": "299b35cc-d003-4f8d-c52c-57aef6e4094e"
      },
      "execution_count": null,
      "outputs": [
        {
          "output_type": "stream",
          "name": "stdout",
          "text": [
            "\u001b[1mЗагрузка датасета\u001b[0m \u001b[92mOk\u001b[0m\n",
            "\u001b[94mИфно:\u001b[0m\n",
            "    Вы скачали базу вакансий. База содержит информацию о 62504 ползователях\n"
          ]
        }
      ]
    },
    {
      "cell_type": "code",
      "source": [
        "# Вывод примеров\n",
        "demo_ai.samples()"
      ],
      "metadata": {
        "colab": {
          "base_uri": "https://localhost:8080/"
        },
        "id": "eEBZ6R3CxZ2U",
        "outputId": "9dbbd873-25cc-423b-eb02-a2a5c6f43af1"
      },
      "execution_count": null,
      "outputs": [
        {
          "output_type": "stream",
          "name": "stdout",
          "text": [
            "Пример резюме:\n",
            "\n",
            "Пол:                         Ж\n",
            "Возраст:                     26\n",
            "Город:                       Шымкент\n",
            "Готовность к переезду:       готов к переезду\n",
            "Готовность к командировкам:  готов к командировкам\n",
            "Гражданство:                 Казахстан\n",
            "Разрешение на работу:        Казахстан\n",
            "Знания языков:               Казахский Английский Русский Турецкий\n",
            "Образование:                 Высшее образование\n",
            "Дополнительное образование:  Школа бизнеса «Синегрия»\n",
            "Зарплата:                    54000.0\n",
            "Время в пути до работы:      не имеет значения\n",
            "Занятость:                   полная занятость\n",
            "График:                      полный день\n",
            "Опыт работы (мес):           109\n",
            "Обязанности на пред.работе:  Продажа пакетов обучения, выполнение плана., руководство отделом продаж;планирование работы отдела (\n",
            "                             идеология, цели, задачи, мотивация);подбор, адаптация и обучение сотрудников;поиск и привлечение кли\n",
            "                             ентов;составление отчетности;ведение, поддержание и развитие клиентской базы.создание мотивационных \n",
            "                             программ;анализ рынка и сбор информации о клиентах;представление компании на конференциях и демонстр\n",
            "                             ационных мероприятиях., Прием и распределение входящих сообщений, электронных писем, ведение клиентс\n",
            "                             кой базы. Консультативная поддержка клиентов, предоставление всей нужной инфрмации клиенту по услуга\n",
            "---------------------------------------------------------------\n",
            "Подходит ли кандидат:        нет\n",
            "---------------------------------------------------------------\n",
            "\n",
            "Пример резюме:\n",
            "\n",
            "Пол:                         М\n",
            "Возраст:                     53\n",
            "Город:                       Лобня\n",
            "Готовность к переезду:       готов к переезду\n",
            "Готовность к командировкам:  готов к командировкам\n",
            "Гражданство:                 Россия\n",
            "Разрешение на работу:        Россия\n",
            "Знания языков:               Русский Английский Итальянский\n",
            "Образование:                 Высшее образование\n",
            "Дополнительное образование:  Курсы \"Специалист\" при МГТУ им. Баумана\n",
            "Зарплата:                    60000.0\n",
            "Время в пути до работы:      не более полутора часов\n",
            "Занятость:                   частичная занятость, проектная работа, полная занятость\n",
            "График:                      гибкий график, полный день, сменный график, удаленная работа\n",
            "Опыт работы (мес):           165\n",
            "Обязанности на пред.работе:  Привлечение клиентов, заключение договоров и дальнейшее сопровождение покупателя - прием заказов и в\n",
            "                             заимодействие в целом., Продажа гаджетов, Создал интернет-магазин, занимался оформлением транспортны\n",
            "                             х документов в программе Трансменеджер,создал группы компании в Контакте и Одноклассниках, Магазин э\n",
            "                             лектрики «Виарта»Продвижение магазина в соцсетях. Подрабатывал промоутером, МОО «Юридический центр з\n",
            "                             ащиты прав потребителей» г. ХимкиSMM-маркетологРазработал стратегию присутствия в соцсетях для МОО «\n",
            "                             ЮЦЗП» (Юридический центр защиты прав потребителей) г. Химки, написал план продвижения в соцсетях, ко\n",
            "---------------------------------------------------------------\n",
            "Подходит ли кандидат:        нет\n",
            "---------------------------------------------------------------\n",
            "\n",
            "Пример резюме:\n",
            "\n",
            "Пол:                         М\n",
            "Возраст:                     29\n",
            "Город:                       Минск\n",
            "Готовность к переезду:       готов к переезду\n",
            "Готовность к командировкам:  готов к командировкам\n",
            "Гражданство:                 Беларусь\n",
            "Разрешение на работу:        Беларусь, Россия\n",
            "Знания языков:               Белорусский Русский\n",
            "Образование:                 Высшее образование\n",
            "Дополнительное образование:  Данные не указаны\n",
            "Зарплата:                    40000.0\n",
            "Время в пути до работы:      не имеет значения\n",
            "Занятость:                   полная занятость\n",
            "График:                      удаленная работа, полный день\n",
            "Опыт работы (мес):           97\n",
            "Обязанности на пред.работе:  Полный цикл сопровождения клиентов B2B, B2C.Работа через воронку продаж.Разработка скриптов. Расшире\n",
            "                             ние клиентской базы. Личные продажи. Найм + адаптация + контроль и мотивация сотрудников.Чек услуги \n",
            "                             был от 15 тысяч до 10 миллионов рублей. Количество человек под руководством = 22Цикл сделки от 3 дне\n",
            "                             й до 6 месяцев.Рекордная личная продажа 10 млн рублей (Март 2018 года) По результатам своей работы у\n",
            "                             величил конверсию отдела на 34%, Розничная продажа теплиц из поликарбоната и строительных материалов\n",
            "                              B2B., Продажа биологически активных добавок B2C. Применял навык живой презентации и телемаркетинга.\n",
            "---------------------------------------------------------------\n",
            "Подходит ли кандидат:        да\n",
            "---------------------------------------------------------------\n",
            "\n"
          ]
        }
      ]
    },
    {
      "cell_type": "code",
      "source": [
        "# Создание обучающей и проверочной выборок\n",
        "demo_ai.create_sets()"
      ],
      "metadata": {
        "colab": {
          "base_uri": "https://localhost:8080/",
          "height": 477
        },
        "id": "SMxKU996xd9s",
        "outputId": "be9a454a-880b-4d07-e9e6-a8d2c4eea769"
      },
      "execution_count": null,
      "outputs": [
        {
          "output_type": "stream",
          "name": "stdout",
          "text": [
            "\n",
            "Размер созданных выборок:\n",
            "  Обучающая выборка: (500, 483)\n",
            "  Метки обучающей выборки: (500, 2)\n",
            "  Проверочная выборка: (264, 483)\n",
            "  Метки проверочной выборки: (264, 2)\n",
            "Распределение по классам:\n"
          ]
        },
        {
          "output_type": "display_data",
          "data": {
            "text/plain": [
              "<Figure size 1152x360 with 2 Axes>"
            ],
            "image/png": "[encoded data removed]"
          },
          "metadata": {
            "needs_background": "light"
          }
        },
        {
          "output_type": "stream",
          "name": "stdout",
          "text": [
            "\n"
          ]
        }
      ]
    },
    {
      "cell_type": "code",
      "source": [
        "# Задание слоев нейронной сети\n",
        "layers = f'Полносвязный-128\\\n",
        " Полносвязный-2'\n",
        "\n",
        "# Создание модели нейронной сети\n",
        "demo_ai.create_model(layers)"
      ],
      "metadata": {
        "colab": {
          "base_uri": "https://localhost:8080/"
        },
        "id": "Kzcxh8_h1FRs",
        "outputId": "98b36c60-d4d6-40df-e185-c7fdd9bac4db"
      },
      "execution_count": null,
      "outputs": [
        {
          "output_type": "stream",
          "name": "stdout",
          "text": [
            "\u001b[1mСоздание модели нейронной сети\u001b[0m \u001b[92mOk\u001b[0m\n"
          ]
        }
      ]
    },
    {
      "cell_type": "code",
      "source": [
        "# Обучение нейронной сети\n",
        "demo_ai.train_model(epochs=150)"
      ],
      "metadata": {
        "colab": {
          "base_uri": "https://localhost:8080/",
          "height": 1000
        },
        "id": "g0zXor9SxeVq",
        "outputId": "4e6eada8-2223-4a84-c657-70330165c320"
      },
      "execution_count": null,
      "outputs": [
        {
          "output_type": "stream",
          "name": "stdout",
          "text": [
            "Эпоха 1   Время обучения: 0.9c     Точность на обучающей выборке: \u001b[94m47.6%\u001b[0m     Точность на проверочной выборке: \u001b[94m45.45%\u001b[0m\n",
            "Эпоха 2   Время обучения: 0.1c     Точность на обучающей выборке: \u001b[94m50.0%\u001b[0m     Точность на проверочной выборке: \u001b[94m46.97%\u001b[0m\n",
            "Эпоха 3   Время обучения: 0.1c     Точность на обучающей выборке: \u001b[94m52.2%\u001b[0m     Точность на проверочной выборке: \u001b[94m48.48%\u001b[0m\n",
            "Эпоха 4   Время обучения: 0.1c     Точность на обучающей выборке: \u001b[94m52.6%\u001b[0m     Точность на проверочной выборке: \u001b[94m48.11%\u001b[0m\n",
            "Эпоха 5   Время обучения: 0.1c     Точность на обучающей выборке: \u001b[94m54.2%\u001b[0m     Точность на проверочной выборке: \u001b[94m52.65%\u001b[0m\n",
            "Эпоха 6   Время обучения: 0.1c     Точность на обучающей выборке: \u001b[94m56.2%\u001b[0m     Точность на проверочной выборке: \u001b[94m53.79%\u001b[0m\n",
            "Эпоха 7   Время обучения: 0.1c     Точность на обучающей выборке: \u001b[94m58.2%\u001b[0m     Точность на проверочной выборке: \u001b[94m57.95%\u001b[0m\n",
            "Эпоха 8   Время обучения: 0.1c     Точность на обучающей выборке: \u001b[94m62.4%\u001b[0m     Точность на проверочной выборке: \u001b[94m57.58%\u001b[0m\n",
            "Эпоха 9   Время обучения: 0.1c     Точность на обучающей выборке: \u001b[94m64.0%\u001b[0m     Точность на проверочной выборке: \u001b[94m58.71%\u001b[0m\n",
            "Эпоха 10  Время обучения: 0.1c     Точность на обучающей выборке: \u001b[94m66.4%\u001b[0m     Точность на проверочной выборке: \u001b[94m60.98%\u001b[0m\n",
            "Эпоха 11  Время обучения: 0.1c     Точность на обучающей выборке: \u001b[94m67.4%\u001b[0m     Точность на проверочной выборке: \u001b[94m63.64%\u001b[0m\n",
            "Эпоха 12  Время обучения: 0.1c     Точность на обучающей выборке: \u001b[94m68.0%\u001b[0m     Точность на проверочной выборке: \u001b[94m66.29%\u001b[0m\n",
            "Эпоха 13  Время обучения: 0.1c     Точность на обучающей выборке: \u001b[94m69.8%\u001b[0m     Точность на проверочной выборке: \u001b[94m67.42%\u001b[0m\n",
            "Эпоха 14  Время обучения: 0.1c     Точность на обучающей выборке: \u001b[94m70.6%\u001b[0m     Точность на проверочной выборке: \u001b[94m69.32%\u001b[0m\n",
            "Эпоха 15  Время обучения: 0.1c     Точность на обучающей выборке: \u001b[94m72.2%\u001b[0m     Точность на проверочной выборке: \u001b[94m68.94%\u001b[0m\n",
            "Эпоха 16  Время обучения: 0.1c     Точность на обучающей выборке: \u001b[94m73.4%\u001b[0m     Точность на проверочной выборке: \u001b[94m71.59%\u001b[0m\n",
            "Эпоха 17  Время обучения: 0.1c     Точность на обучающей выборке: \u001b[94m74.4%\u001b[0m     Точность на проверочной выборке: \u001b[94m71.21%\u001b[0m\n",
            "Эпоха 18  Время обучения: 0.1c     Точность на обучающей выборке: \u001b[94m73.8%\u001b[0m     Точность на проверочной выборке: \u001b[94m74.62%\u001b[0m\n",
            "Эпоха 19  Время обучения: 0.1c     Точность на обучающей выборке: \u001b[94m75.0%\u001b[0m     Точность на проверочной выборке: \u001b[94m73.11%\u001b[0m\n",
            "Эпоха 20  Время обучения: 0.1c     Точность на обучающей выборке: \u001b[94m76.2%\u001b[0m     Точность на проверочной выборке: \u001b[94m75.38%\u001b[0m\n",
            "Эпоха 21  Время обучения: 0.1c     Точность на обучающей выборке: \u001b[94m76.8%\u001b[0m     Точность на проверочной выборке: \u001b[94m77.27%\u001b[0m\n",
            "Эпоха 22  Время обучения: 0.1c     Точность на обучающей выборке: \u001b[94m78.0%\u001b[0m     Точность на проверочной выборке: \u001b[94m76.52%\u001b[0m\n",
            "Эпоха 23  Время обучения: 0.1c     Точность на обучающей выборке: \u001b[94m78.0%\u001b[0m     Точность на проверочной выборке: \u001b[94m76.89%\u001b[0m\n",
            "Эпоха 24  Время обучения: 0.1c     Точность на обучающей выборке: \u001b[94m79.2%\u001b[0m     Точность на проверочной выборке: \u001b[94m78.03%\u001b[0m\n",
            "Эпоха 25  Время обучения: 0.1c     Точность на обучающей выборке: \u001b[94m79.8%\u001b[0m     Точность на проверочной выборке: \u001b[94m78.03%\u001b[0m\n",
            "Эпоха 26  Время обучения: 0.1c     Точность на обучающей выборке: \u001b[94m81.0%\u001b[0m     Точность на проверочной выборке: \u001b[94m78.03%\u001b[0m\n",
            "Эпоха 27  Время обучения: 0.1c     Точность на обучающей выборке: \u001b[94m80.0%\u001b[0m     Точность на проверочной выборке: \u001b[94m77.65%\u001b[0m\n",
            "Эпоха 28  Время обучения: 0.1c     Точность на обучающей выборке: \u001b[94m81.0%\u001b[0m     Точность на проверочной выборке: \u001b[94m78.41%\u001b[0m\n",
            "Эпоха 29  Время обучения: 0.1c     Точность на обучающей выборке: \u001b[94m80.4%\u001b[0m     Точность на проверочной выборке: \u001b[94m79.17%\u001b[0m\n",
            "Эпоха 30  Время обучения: 0.1c     Точность на обучающей выборке: \u001b[94m82.0%\u001b[0m     Точность на проверочной выборке: \u001b[94m80.3%\u001b[0m\n",
            "Эпоха 31  Время обучения: 0.1c     Точность на обучающей выборке: \u001b[94m80.6%\u001b[0m     Точность на проверочной выборке: \u001b[94m80.3%\u001b[0m\n",
            "Эпоха 32  Время обучения: 0.1c     Точность на обучающей выборке: \u001b[94m83.0%\u001b[0m     Точность на проверочной выборке: \u001b[94m81.44%\u001b[0m\n",
            "Эпоха 33  Время обучения: 0.1c     Точность на обучающей выборке: \u001b[94m83.2%\u001b[0m     Точность на проверочной выборке: \u001b[94m81.44%\u001b[0m\n",
            "Эпоха 34  Время обучения: 0.1c     Точность на обучающей выборке: \u001b[94m82.8%\u001b[0m     Точность на проверочной выборке: \u001b[94m81.82%\u001b[0m\n",
            "Эпоха 35  Время обучения: 0.1c     Точность на обучающей выборке: \u001b[94m83.6%\u001b[0m     Точность на проверочной выборке: \u001b[94m82.2%\u001b[0m\n",
            "Эпоха 36  Время обучения: 0.1c     Точность на обучающей выборке: \u001b[94m84.0%\u001b[0m     Точность на проверочной выборке: \u001b[94m81.82%\u001b[0m\n",
            "Эпоха 37  Время обучения: 0.1c     Точность на обучающей выборке: \u001b[94m83.4%\u001b[0m     Точность на проверочной выборке: \u001b[94m81.82%\u001b[0m\n",
            "Эпоха 38  Время обучения: 0.1c     Точность на обучающей выборке: \u001b[94m83.8%\u001b[0m     Точность на проверочной выборке: \u001b[94m82.2%\u001b[0m\n",
            "Эпоха 39  Время обучения: 0.1c     Точность на обучающей выборке: \u001b[94m83.6%\u001b[0m     Точность на проверочной выборке: \u001b[94m81.44%\u001b[0m\n",
            "Эпоха 40  Время обучения: 0.1c     Точность на обучающей выборке: \u001b[94m85.2%\u001b[0m     Точность на проверочной выборке: \u001b[94m82.2%\u001b[0m\n",
            "Эпоха 41  Время обучения: 0.1c     Точность на обучающей выборке: \u001b[94m84.4%\u001b[0m     Точность на проверочной выборке: \u001b[94m83.33%\u001b[0m\n",
            "Эпоха 42  Время обучения: 0.1c     Точность на обучающей выборке: \u001b[94m85.4%\u001b[0m     Точность на проверочной выборке: \u001b[94m82.58%\u001b[0m\n",
            "Эпоха 43  Время обучения: 0.1c     Точность на обучающей выборке: \u001b[94m86.2%\u001b[0m     Точность на проверочной выборке: \u001b[94m82.95%\u001b[0m\n",
            "Эпоха 44  Время обучения: 0.1c     Точность на обучающей выборке: \u001b[94m86.4%\u001b[0m     Точность на проверочной выборке: \u001b[94m83.33%\u001b[0m\n",
            "Эпоха 45  Время обучения: 0.1c     Точность на обучающей выборке: \u001b[94m86.6%\u001b[0m     Точность на проверочной выборке: \u001b[94m82.95%\u001b[0m\n",
            "Эпоха 46  Время обучения: 0.1c     Точность на обучающей выборке: \u001b[94m86.8%\u001b[0m     Точность на проверочной выборке: \u001b[94m83.33%\u001b[0m\n",
            "Эпоха 47  Время обучения: 0.1c     Точность на обучающей выборке: \u001b[94m86.6%\u001b[0m     Точность на проверочной выборке: \u001b[94m83.33%\u001b[0m\n",
            "Эпоха 48  Время обучения: 0.1c     Точность на обучающей выборке: \u001b[94m86.6%\u001b[0m     Точность на проверочной выборке: \u001b[94m82.95%\u001b[0m\n",
            "Эпоха 49  Время обучения: 0.1c     Точность на обучающей выборке: \u001b[94m87.0%\u001b[0m     Точность на проверочной выборке: \u001b[94m83.33%\u001b[0m\n",
            "Эпоха 50  Время обучения: 0.1c     Точность на обучающей выборке: \u001b[94m86.8%\u001b[0m     Точность на проверочной выборке: \u001b[94m82.95%\u001b[0m\n",
            "Эпоха 51  Время обучения: 0.1c     Точность на обучающей выборке: \u001b[94m86.8%\u001b[0m     Точность на проверочной выборке: \u001b[94m82.95%\u001b[0m\n",
            "Эпоха 52  Время обучения: 0.1c     Точность на обучающей выборке: \u001b[94m87.2%\u001b[0m     Точность на проверочной выборке: \u001b[94m82.95%\u001b[0m\n",
            "Эпоха 53  Время обучения: 0.1c     Точность на обучающей выборке: \u001b[94m87.0%\u001b[0m     Точность на проверочной выборке: \u001b[94m82.58%\u001b[0m\n",
            "Эпоха 54  Время обучения: 0.1c     Точность на обучающей выборке: \u001b[94m87.2%\u001b[0m     Точность на проверочной выборке: \u001b[94m82.58%\u001b[0m\n",
            "Эпоха 55  Время обучения: 0.1c     Точность на обучающей выборке: \u001b[94m87.0%\u001b[0m     Точность на проверочной выборке: \u001b[94m82.2%\u001b[0m\n",
            "Эпоха 56  Время обучения: 0.1c     Точность на обучающей выборке: \u001b[94m87.0%\u001b[0m     Точность на проверочной выборке: \u001b[94m81.82%\u001b[0m\n",
            "Эпоха 57  Время обучения: 0.1c     Точность на обучающей выборке: \u001b[94m87.0%\u001b[0m     Точность на проверочной выборке: \u001b[94m82.95%\u001b[0m\n",
            "Эпоха 58  Время обучения: 0.1c     Точность на обучающей выборке: \u001b[94m87.4%\u001b[0m     Точность на проверочной выборке: \u001b[94m82.58%\u001b[0m\n",
            "Эпоха 59  Время обучения: 0.1c     Точность на обучающей выборке: \u001b[94m87.2%\u001b[0m     Точность на проверочной выборке: \u001b[94m82.95%\u001b[0m\n",
            "Эпоха 60  Время обучения: 0.1c     Точность на обучающей выборке: \u001b[94m87.8%\u001b[0m     Точность на проверочной выборке: \u001b[94m81.82%\u001b[0m\n",
            "Эпоха 61  Время обучения: 0.1c     Точность на обучающей выборке: \u001b[94m87.6%\u001b[0m     Точность на проверочной выборке: \u001b[94m83.33%\u001b[0m\n",
            "Эпоха 62  Время обучения: 0.1c     Точность на обучающей выборке: \u001b[94m87.6%\u001b[0m     Точность на проверочной выборке: \u001b[94m83.33%\u001b[0m\n",
            "Эпоха 63  Время обучения: 0.1c     Точность на обучающей выборке: \u001b[94m88.0%\u001b[0m     Точность на проверочной выборке: \u001b[94m82.58%\u001b[0m\n",
            "Эпоха 64  Время обучения: 0.1c     Точность на обучающей выборке: \u001b[94m87.8%\u001b[0m     Точность на проверочной выборке: \u001b[94m82.58%\u001b[0m\n",
            "Эпоха 65  Время обучения: 0.1c     Точность на обучающей выборке: \u001b[94m88.4%\u001b[0m     Точность на проверочной выборке: \u001b[94m82.2%\u001b[0m\n",
            "Эпоха 66  Время обучения: 0.1c     Точность на обучающей выборке: \u001b[94m89.2%\u001b[0m     Точность на проверочной выборке: \u001b[94m82.95%\u001b[0m\n",
            "Эпоха 67  Время обучения: 0.2c     Точность на обучающей выборке: \u001b[94m88.0%\u001b[0m     Точность на проверочной выборке: \u001b[94m82.95%\u001b[0m\n",
            "Эпоха 68  Время обучения: 0.1c     Точность на обучающей выборке: \u001b[94m89.0%\u001b[0m     Точность на проверочной выборке: \u001b[94m83.33%\u001b[0m\n",
            "Эпоха 69  Время обучения: 0.1c     Точность на обучающей выборке: \u001b[94m88.8%\u001b[0m     Точность на проверочной выборке: \u001b[94m82.95%\u001b[0m\n",
            "Эпоха 70  Время обучения: 0.1c     Точность на обучающей выборке: \u001b[94m89.0%\u001b[0m     Точность на проверочной выборке: \u001b[94m82.95%\u001b[0m\n",
            "Эпоха 71  Время обучения: 0.1c     Точность на обучающей выборке: \u001b[94m89.6%\u001b[0m     Точность на проверочной выборке: \u001b[94m83.33%\u001b[0m\n",
            "Эпоха 72  Время обучения: 0.1c     Точность на обучающей выборке: \u001b[94m89.4%\u001b[0m     Точность на проверочной выборке: \u001b[94m83.33%\u001b[0m\n",
            "Эпоха 73  Время обучения: 0.2c     Точность на обучающей выборке: \u001b[94m89.6%\u001b[0m     Точность на проверочной выборке: \u001b[94m82.95%\u001b[0m\n",
            "Эпоха 74  Время обучения: 0.2c     Точность на обучающей выборке: \u001b[94m89.8%\u001b[0m     Точность на проверочной выборке: \u001b[94m84.09%\u001b[0m\n",
            "Эпоха 75  Время обучения: 0.2c     Точность на обучающей выборке: \u001b[94m90.2%\u001b[0m     Точность на проверочной выборке: \u001b[94m83.33%\u001b[0m\n",
            "Эпоха 76  Время обучения: 0.2c     Точность на обучающей выборке: \u001b[94m90.0%\u001b[0m     Точность на проверочной выборке: \u001b[94m84.47%\u001b[0m\n",
            "Эпоха 77  Время обучения: 0.2c     Точность на обучающей выборке: \u001b[94m90.0%\u001b[0m     Точность на проверочной выборке: \u001b[94m84.09%\u001b[0m\n",
            "Эпоха 78  Время обучения: 0.2c     Точность на обучающей выборке: \u001b[94m90.4%\u001b[0m     Точность на проверочной выборке: \u001b[94m84.47%\u001b[0m\n",
            "Эпоха 79  Время обучения: 0.1c     Точность на обучающей выборке: \u001b[94m90.4%\u001b[0m     Точность на проверочной выборке: \u001b[94m83.71%\u001b[0m\n",
            "Эпоха 80  Время обучения: 0.1c     Точность на обучающей выборке: \u001b[94m90.6%\u001b[0m     Точность на проверочной выборке: \u001b[94m84.09%\u001b[0m\n",
            "Эпоха 81  Время обучения: 0.1c     Точность на обучающей выборке: \u001b[94m90.0%\u001b[0m     Точность на проверочной выборке: \u001b[94m83.71%\u001b[0m\n",
            "Эпоха 82  Время обучения: 0.1c     Точность на обучающей выборке: \u001b[94m90.6%\u001b[0m     Точность на проверочной выборке: \u001b[94m83.33%\u001b[0m\n",
            "Эпоха 83  Время обучения: 0.2c     Точность на обучающей выборке: \u001b[94m90.8%\u001b[0m     Точность на проверочной выборке: \u001b[94m83.33%\u001b[0m\n",
            "Эпоха 84  Время обучения: 0.2c     Точность на обучающей выборке: \u001b[94m90.8%\u001b[0m     Точность на проверочной выборке: \u001b[94m83.33%\u001b[0m\n",
            "Эпоха 85  Время обучения: 0.2c     Точность на обучающей выборке: \u001b[94m90.4%\u001b[0m     Точность на проверочной выборке: \u001b[94m83.33%\u001b[0m\n",
            "Эпоха 86  Время обучения: 0.2c     Точность на обучающей выборке: \u001b[94m91.0%\u001b[0m     Точность на проверочной выборке: \u001b[94m83.71%\u001b[0m\n",
            "Эпоха 87  Время обучения: 0.2c     Точность на обучающей выборке: \u001b[94m90.8%\u001b[0m     Точность на проверочной выборке: \u001b[94m82.95%\u001b[0m\n",
            "Эпоха 88  Время обучения: 0.2c     Точность на обучающей выборке: \u001b[94m90.8%\u001b[0m     Точность на проверочной выборке: \u001b[94m83.71%\u001b[0m\n",
            "Эпоха 89  Время обучения: 0.2c     Точность на обучающей выборке: \u001b[94m91.4%\u001b[0m     Точность на проверочной выборке: \u001b[94m83.33%\u001b[0m\n",
            "Эпоха 90  Время обучения: 0.2c     Точность на обучающей выборке: \u001b[94m91.4%\u001b[0m     Точность на проверочной выборке: \u001b[94m83.71%\u001b[0m\n",
            "Эпоха 91  Время обучения: 0.2c     Точность на обучающей выборке: \u001b[94m90.8%\u001b[0m     Точность на проверочной выборке: \u001b[94m83.33%\u001b[0m\n",
            "Эпоха 92  Время обучения: 0.2c     Точность на обучающей выборке: \u001b[94m91.0%\u001b[0m     Точность на проверочной выборке: \u001b[94m83.71%\u001b[0m\n",
            "Эпоха 93  Время обучения: 0.1c     Точность на обучающей выборке: \u001b[94m91.4%\u001b[0m     Точность на проверочной выборке: \u001b[94m84.09%\u001b[0m\n",
            "Эпоха 94  Время обучения: 0.2c     Точность на обучающей выборке: \u001b[94m91.2%\u001b[0m     Точность на проверочной выборке: \u001b[94m83.71%\u001b[0m\n",
            "Эпоха 95  Время обучения: 0.2c     Точность на обучающей выборке: \u001b[94m91.4%\u001b[0m     Точность на проверочной выборке: \u001b[94m84.09%\u001b[0m\n",
            "Эпоха 96  Время обучения: 0.1c     Точность на обучающей выборке: \u001b[94m91.4%\u001b[0m     Точность на проверочной выборке: \u001b[94m84.47%\u001b[0m\n",
            "Эпоха 97  Время обучения: 0.1c     Точность на обучающей выборке: \u001b[94m91.6%\u001b[0m     Точность на проверочной выборке: \u001b[94m83.71%\u001b[0m\n",
            "Эпоха 98  Время обучения: 0.2c     Точность на обучающей выборке: \u001b[94m91.4%\u001b[0m     Точность на проверочной выборке: \u001b[94m84.09%\u001b[0m\n",
            "Эпоха 99  Время обучения: 0.2c     Точность на обучающей выборке: \u001b[94m91.2%\u001b[0m     Точность на проверочной выборке: \u001b[94m84.09%\u001b[0m\n",
            "Эпоха 100 Время обучения: 0.1c     Точность на обучающей выборке: \u001b[94m91.6%\u001b[0m     Точность на проверочной выборке: \u001b[94m84.85%\u001b[0m\n",
            "Эпоха 101 Время обучения: 0.1c     Точность на обучающей выборке: \u001b[94m91.2%\u001b[0m     Точность на проверочной выборке: \u001b[94m84.47%\u001b[0m\n",
            "Эпоха 102 Время обучения: 0.2c     Точность на обучающей выборке: \u001b[94m91.4%\u001b[0m     Точность на проверочной выборке: \u001b[94m83.71%\u001b[0m\n",
            "Эпоха 103 Время обучения: 0.2c     Точность на обучающей выборке: \u001b[94m91.8%\u001b[0m     Точность на проверочной выборке: \u001b[94m84.09%\u001b[0m\n",
            "Эпоха 104 Время обучения: 0.1c     Точность на обучающей выборке: \u001b[94m91.6%\u001b[0m     Точность на проверочной выборке: \u001b[94m83.71%\u001b[0m\n",
            "Эпоха 105 Время обучения: 0.1c     Точность на обучающей выборке: \u001b[94m91.6%\u001b[0m     Точность на проверочной выборке: \u001b[94m84.09%\u001b[0m\n",
            "Эпоха 106 Время обучения: 0.2c     Точность на обучающей выборке: \u001b[94m91.4%\u001b[0m     Точность на проверочной выборке: \u001b[94m84.09%\u001b[0m\n",
            "Эпоха 107 Время обучения: 0.1c     Точность на обучающей выборке: \u001b[94m91.8%\u001b[0m     Точность на проверочной выборке: \u001b[94m84.47%\u001b[0m\n",
            "Эпоха 108 Время обучения: 0.2c     Точность на обучающей выборке: \u001b[94m92.0%\u001b[0m     Точность на проверочной выборке: \u001b[94m84.09%\u001b[0m\n",
            "Эпоха 109 Время обучения: 0.2c     Точность на обучающей выборке: \u001b[94m92.0%\u001b[0m     Точность на проверочной выборке: \u001b[94m84.09%\u001b[0m\n",
            "Эпоха 110 Время обучения: 0.1c     Точность на обучающей выборке: \u001b[94m92.0%\u001b[0m     Точность на проверочной выборке: \u001b[94m84.09%\u001b[0m\n",
            "Эпоха 111 Время обучения: 0.1c     Точность на обучающей выборке: \u001b[94m91.8%\u001b[0m     Точность на проверочной выборке: \u001b[94m85.23%\u001b[0m\n",
            "Эпоха 112 Время обучения: 0.1c     Точность на обучающей выборке: \u001b[94m91.8%\u001b[0m     Точность на проверочной выборке: \u001b[94m84.09%\u001b[0m\n",
            "Эпоха 113 Время обучения: 0.2c     Точность на обучающей выборке: \u001b[94m92.2%\u001b[0m     Точность на проверочной выборке: \u001b[94m84.47%\u001b[0m\n",
            "Эпоха 114 Время обучения: 0.1c     Точность на обучающей выборке: \u001b[94m92.0%\u001b[0m     Точность на проверочной выборке: \u001b[94m84.47%\u001b[0m\n",
            "Эпоха 115 Время обучения: 0.2c     Точность на обучающей выборке: \u001b[94m91.2%\u001b[0m     Точность на проверочной выборке: \u001b[94m85.23%\u001b[0m\n",
            "Эпоха 116 Время обучения: 0.1c     Точность на обучающей выборке: \u001b[94m92.4%\u001b[0m     Точность на проверочной выборке: \u001b[94m84.85%\u001b[0m\n",
            "Эпоха 117 Время обучения: 0.1c     Точность на обучающей выборке: \u001b[94m92.0%\u001b[0m     Точность на проверочной выборке: \u001b[94m84.85%\u001b[0m\n",
            "Эпоха 118 Время обучения: 0.1c     Точность на обучающей выборке: \u001b[94m92.6%\u001b[0m     Точность на проверочной выборке: \u001b[94m85.23%\u001b[0m\n",
            "Эпоха 119 Время обучения: 0.2c     Точность на обучающей выборке: \u001b[94m92.6%\u001b[0m     Точность на проверочной выборке: \u001b[94m84.85%\u001b[0m\n",
            "Эпоха 120 Время обучения: 0.1c     Точность на обучающей выборке: \u001b[94m92.8%\u001b[0m     Точность на проверочной выборке: \u001b[94m84.85%\u001b[0m\n",
            "Эпоха 121 Время обучения: 0.2c     Точность на обучающей выборке: \u001b[94m92.4%\u001b[0m     Точность на проверочной выборке: \u001b[94m84.47%\u001b[0m\n",
            "Эпоха 122 Время обучения: 0.1c     Точность на обучающей выборке: \u001b[94m92.6%\u001b[0m     Точность на проверочной выборке: \u001b[94m85.98%\u001b[0m\n",
            "Эпоха 123 Время обучения: 0.2c     Точность на обучающей выборке: \u001b[94m92.8%\u001b[0m     Точность на проверочной выборке: \u001b[94m85.61%\u001b[0m\n",
            "Эпоха 124 Время обучения: 0.2c     Точность на обучающей выборке: \u001b[94m92.6%\u001b[0m     Точность на проверочной выборке: \u001b[94m85.98%\u001b[0m\n",
            "Эпоха 125 Время обучения: 0.2c     Точность на обучающей выборке: \u001b[94m92.8%\u001b[0m     Точность на проверочной выборке: \u001b[94m85.98%\u001b[0m\n",
            "Эпоха 126 Время обучения: 0.1c     Точность на обучающей выборке: \u001b[94m92.8%\u001b[0m     Точность на проверочной выборке: \u001b[94m86.36%\u001b[0m\n",
            "Эпоха 127 Время обучения: 0.1c     Точность на обучающей выборке: \u001b[94m93.0%\u001b[0m     Точность на проверочной выборке: \u001b[94m86.36%\u001b[0m\n",
            "Эпоха 128 Время обучения: 0.1c     Точность на обучающей выборке: \u001b[94m92.8%\u001b[0m     Точность на проверочной выборке: \u001b[94m85.61%\u001b[0m\n",
            "Эпоха 129 Время обучения: 0.1c     Точность на обучающей выборке: \u001b[94m93.2%\u001b[0m     Точность на проверочной выборке: \u001b[94m86.74%\u001b[0m\n",
            "Эпоха 130 Время обучения: 0.1c     Точность на обучающей выборке: \u001b[94m93.4%\u001b[0m     Точность на проверочной выборке: \u001b[94m86.74%\u001b[0m\n",
            "Эпоха 131 Время обучения: 0.1c     Точность на обучающей выборке: \u001b[94m93.2%\u001b[0m     Точность на проверочной выборке: \u001b[94m86.36%\u001b[0m\n",
            "Эпоха 132 Время обучения: 0.1c     Точность на обучающей выборке: \u001b[94m93.2%\u001b[0m     Точность на проверочной выборке: \u001b[94m86.74%\u001b[0m\n",
            "Эпоха 133 Время обучения: 0.1c     Точность на обучающей выборке: \u001b[94m93.8%\u001b[0m     Точность на проверочной выборке: \u001b[94m86.74%\u001b[0m\n",
            "Эпоха 134 Время обучения: 0.1c     Точность на обучающей выборке: \u001b[94m93.2%\u001b[0m     Точность на проверочной выборке: \u001b[94m86.74%\u001b[0m\n",
            "Эпоха 135 Время обучения: 0.1c     Точность на обучающей выборке: \u001b[94m93.6%\u001b[0m     Точность на проверочной выборке: \u001b[94m86.74%\u001b[0m\n",
            "Эпоха 136 Время обучения: 0.1c     Точность на обучающей выборке: \u001b[94m93.8%\u001b[0m     Точность на проверочной выборке: \u001b[94m86.74%\u001b[0m\n",
            "Эпоха 137 Время обучения: 0.1c     Точность на обучающей выборке: \u001b[94m93.4%\u001b[0m     Точность на проверочной выборке: \u001b[94m86.74%\u001b[0m\n",
            "Эпоха 138 Время обучения: 0.1c     Точность на обучающей выборке: \u001b[94m93.6%\u001b[0m     Точность на проверочной выборке: \u001b[94m86.74%\u001b[0m\n",
            "Эпоха 139 Время обучения: 0.1c     Точность на обучающей выборке: \u001b[94m93.6%\u001b[0m     Точность на проверочной выборке: \u001b[94m86.36%\u001b[0m\n",
            "Эпоха 140 Время обучения: 0.1c     Точность на обучающей выборке: \u001b[94m93.8%\u001b[0m     Точность на проверочной выборке: \u001b[94m86.74%\u001b[0m\n",
            "Эпоха 141 Время обучения: 0.1c     Точность на обучающей выборке: \u001b[94m93.8%\u001b[0m     Точность на проверочной выборке: \u001b[94m86.74%\u001b[0m\n",
            "Эпоха 142 Время обучения: 0.1c     Точность на обучающей выборке: \u001b[94m93.6%\u001b[0m     Точность на проверочной выборке: \u001b[94m86.74%\u001b[0m\n",
            "Эпоха 143 Время обучения: 0.1c     Точность на обучающей выборке: \u001b[94m93.8%\u001b[0m     Точность на проверочной выборке: \u001b[94m86.74%\u001b[0m\n",
            "\u001b[102mЭпоха 144 Время обучения: 0.1c     Точность на обучающей выборке: 93.8%     Точность на проверочной выборке: 87.12%\u001b[0m\n",
            "Эпоха 145 Время обучения: 0.1c     Точность на обучающей выборке: \u001b[94m93.8%\u001b[0m     Точность на проверочной выборке: \u001b[94m86.74%\u001b[0m\n",
            "Эпоха 146 Время обучения: 0.1c     Точность на обучающей выборке: \u001b[94m93.8%\u001b[0m     Точность на проверочной выборке: \u001b[94m87.12%\u001b[0m\n",
            "Эпоха 147 Время обучения: 0.1c     Точность на обучающей выборке: \u001b[94m93.8%\u001b[0m     Точность на проверочной выборке: \u001b[94m87.12%\u001b[0m\n",
            "Эпоха 148 Время обучения: 0.1c     Точность на обучающей выборке: \u001b[94m94.2%\u001b[0m     Точность на проверочной выборке: \u001b[94m87.12%\u001b[0m\n",
            "Эпоха 149 Время обучения: 0.1c     Точность на обучающей выборке: \u001b[94m93.8%\u001b[0m     Точность на проверочной выборке: \u001b[94m86.74%\u001b[0m\n",
            "Эпоха 150 Время обучения: 0.1c     Точность на обучающей выборке: \u001b[94m93.8%\u001b[0m     Точность на проверочной выборке: \u001b[94m87.12%\u001b[0m\n"
          ]
        },
        {
          "output_type": "display_data",
          "data": {
            "text/plain": [
              "<Figure size 1440x1008 with 1 Axes>"
            ],
            "image/png": "[encoded data removed]"
          },
          "metadata": {
            "needs_background": "light"
          }
        }
      ]
    },
    {
      "cell_type": "code",
      "source": [
        "demo_ai.train_model_average(layers)"
      ],
      "metadata": {
        "colab": {
          "base_uri": "https://localhost:8080/",
          "height": 637
        },
        "id": "_Esmm506Expm",
        "outputId": "3859fc85-92ee-4e0f-f52e-e7a8bcb3d8ca"
      },
      "execution_count": null,
      "outputs": [
        {
          "output_type": "stream",
          "name": "stdout",
          "text": [
            "\u001b[1mОпределение среднего показателя точности модели на 10 запусках\u001b[0m\n",
            "\n",
            "Запуск 1  Время обучения: 11.0c    Точность на обучающей выборке: \u001b[94m94.6%\u001b[0m     Точность на проверочной выборке: \u001b[94m86.36%\u001b[0m\n",
            "\u001b[102mЗапуск 2  Время обучения: 10.9c    Точность на обучающей выборке: 94.0%     Точность на проверочной выборке: 88.64%\u001b[0m\n",
            "Запуск 3  Время обучения: 11.2c    Точность на обучающей выборке: \u001b[94m94.2%\u001b[0m     Точность на проверочной выборке: \u001b[94m86.74%\u001b[0m\n",
            "Запуск 4  Время обучения: 20.9c    Точность на обучающей выборке: \u001b[94m93.6%\u001b[0m     Точность на проверочной выборке: \u001b[94m88.64%\u001b[0m\n",
            "Запуск 5  Время обучения: 11.7c    Точность на обучающей выборке: \u001b[94m94.2%\u001b[0m     Точность на проверочной выборке: \u001b[94m87.12%\u001b[0m\n",
            "Запуск 6  Время обучения: 12.6c    Точность на обучающей выборке: \u001b[94m94.2%\u001b[0m     Точность на проверочной выборке: \u001b[94m88.26%\u001b[0m\n",
            "Запуск 7  Время обучения: 20.9c    Точность на обучающей выборке: \u001b[94m94.2%\u001b[0m     Точность на проверочной выборке: \u001b[94m86.74%\u001b[0m\n",
            "Запуск 8  Время обучения: 20.8c    Точность на обучающей выборке: \u001b[94m94.6%\u001b[0m     Точность на проверочной выборке: \u001b[94m87.12%\u001b[0m\n",
            "Запуск 9  Время обучения: 20.9c    Точность на обучающей выборке: \u001b[94m94.4%\u001b[0m     Точность на проверочной выборке: \u001b[94m86.74%\u001b[0m\n",
            "Запуск 10 Время обучения: 11.4c    Точность на обучающей выборке: \u001b[94m94.2%\u001b[0m     Точность на проверочной выборке: \u001b[94m87.12%\u001b[0m\n"
          ]
        },
        {
          "output_type": "display_data",
          "data": {
            "text/plain": [
              "<Figure size 1008x432 with 1 Axes>"
            ],
            "image/png": "[encoded data removed]"
          },
          "metadata": {
            "needs_background": "light"
          }
        },
        {
          "output_type": "stream",
          "name": "stdout",
          "text": [
            "\n",
            "\u001b[1mСредняя точность на обучающей выборке: \u001b[0m94.2%\n",
            "\u001b[1mСредняя точность на проверочной выборке: \u001b[0m87.12%\n"
          ]
        }
      ]
    },
    {
      "cell_type": "code",
      "source": [
        "# Демонстрация результата работы нейронной сети\n",
        "demo_ai.test_model()"
      ],
      "metadata": {
        "colab": {
          "base_uri": "https://localhost:8080/"
        },
        "id": "DLK8VdGsGMoQ",
        "outputId": "940e04f2-7cd1-428c-fc7b-31d9258c93ad"
      },
      "execution_count": null,
      "outputs": [
        {
          "output_type": "stream",
          "name": "stdout",
          "text": [
            "\u001b[1mТестирование модели на случайном примере тестовой выборки: \u001b[0m\n",
            "\n",
            "Тестовое резюме:\n",
            "\n",
            "Пол:                         М\n",
            "Возраст:                     37\n",
            "Город:                       Москва\n",
            "Готовность к переезду:       готов к переезду\n",
            "Готовность к командировкам:  готов к командировкам\n",
            "Гражданство:                 Россия\n",
            "Разрешение на работу:        Россия\n",
            "Знания языков:               Русский Английский\n",
            "Образование:                 Высшее образование\n",
            "Дополнительное образование:  Данные не указаны\n",
            "Зарплата:                    30000.0\n",
            "Время в пути до работы:      не более часа\n",
            "Занятость:                   полная занятость\n",
            "График:                      удаленная работа, полный день\n",
            "Опыт работы (мес):           143\n",
            "Обязанности на пред.работе:  Найм, обучение и адаптация сотрудников.Организация работы отдела ( управление, постановка задач, кон\n",
            "                             троль).Выполнение планов по продажам.Написанию скриптов.Участие в сложных переговорах с клиентами.Со\n",
            "                             гласование договоров.Организация контроля качества звонков сотрудников.Формирование отчетности по кл\n",
            "                             ючевым показателями своего отдела.Проведение планёрок и тренингов.Личные продажи ключевым клиентам.О\n",
            "                             рганизация дистанционной работы отдела.Соблюдение регламентов и правил, утвержденных в компании., Ак\n",
            "                             тивный поиск клиентов федерального уровня.Переговоры на уровне первых лиц, командировки.Согласование\n",
            "\n",
            "Модель уверена, что кандидат подходит в УИИ на: 72.46%\n",
            "---------------------------------------------------------------\n",
            "Подходит ли кандидат на самом деле:  да\n",
            "---------------------------------------------------------------\n",
            "\n",
            "Тестовое резюме:\n",
            "\n",
            "Пол:                         М\n",
            "Возраст:                     25\n",
            "Город:                       Саратов\n",
            "Готовность к переезду:       готов к переезду\n",
            "Готовность к командировкам:  готов к командировкам\n",
            "Гражданство:                 Россия\n",
            "Разрешение на работу:        Россия\n",
            "Знания языков:               Русский\n",
            "Образование:                 Среднее специальное образование\n",
            "Дополнительное образование:  ГБОУ СККПЛ\n",
            "Зарплата:                    40000.0\n",
            "Время в пути до работы:      не имеет значения\n",
            "Занятость:                   частичная занятость, полная занятость\n",
            "График:                      удаленная работа, полный день, сменный график\n",
            "Опыт работы (мес):           26\n",
            "Обязанности на пред.работе:  Совершение звонков по скрипту продаж. Консультирование клиентов, подбор оптимального продукта. Запол\n",
            "                             нение заявок в банк. Обновление сведений в базе данных. Приём входящих звонков. Ведение отчетности п\n",
            "                             о проделанной работе., Привлечение клиентов на открытие, банковских услуг: РКО, онлайн кассы, торгов\n",
            "                             ый эквайринг в сегменте B2B и формирование ЛИДов для передачи менеджеру банка, которых привлекли. Хо\n",
            "                             лодные исходящие звонки. В день совершение холодных звонков от 250 до 350., Осуществление исходящих \n",
            "                             холодных звонков с целью продажи услуг : ШПД, ТВ, Телефонии, Видеонаблюдения. Выполнение плана прода\n",
            "\n",
            "Модель уверена, что кандидат подходит в УИИ на: 7.65%\n",
            "---------------------------------------------------------------\n",
            "Подходит ли кандидат на самом деле:  нет\n",
            "---------------------------------------------------------------\n",
            "\n",
            "Тестовое резюме:\n",
            "\n",
            "Пол:                         М\n",
            "Возраст:                     28\n",
            "Город:                       Обнинск\n",
            "Готовность к переезду:       не готов к переезду\n",
            "Готовность к командировкам:  не готов к командировкам\n",
            "Гражданство:                 Россия\n",
            "Разрешение на работу:        Россия\n",
            "Знания языков:               Русский Английский\n",
            "Образование:                 Высшее образование\n",
            "Дополнительное образование:  Данные не указаны\n",
            "Зарплата:                    50000.0\n",
            "Время в пути до работы:      не имеет значения\n",
            "Занятость:                   частичная занятость, проектная работа, полная занятость\n",
            "График:                      полный день, удаленная работа\n",
            "Опыт работы (мес):           47\n",
            "Обязанности на пред.работе:  Разработка маркетинговой стратегии.Сбор и анализ информации по рынку, отслеживание позиций компании \n",
            "                             и позиций конкурентов на рынке.Работа с большим количеством каналов, оптимизация и масштабирование б\n",
            "                             юджетов, построение прогнозов, медиа и контент-планирование;Поиск подрядчиков на работы по сайту, ко\n",
            "                             нтексту,таргету. (Контекст и таргет выполнял самостоятельно)Ведение соц.сетей (визуал+контент)Наполн\n",
            "                             ение сайта (текст+ несложная верстка)Участие в подготовке и распространении продающего рекламного ко\n",
            "                             нтента.Организация рекламных мероприятий, фото-сессий, видеосъемок, промо-акций;БюджетированиеВзаимо\n",
            "\n",
            "Модель уверена, что кандидат подходит в УИИ на: 87.58%\n",
            "---------------------------------------------------------------\n",
            "Подходит ли кандидат на самом деле:  да\n",
            "---------------------------------------------------------------\n",
            "\n"
          ]
        }
      ]
    },
    {
      "cell_type": "code",
      "source": [
        "# Задание слоев нейронной сети\n",
        "layers = f'Полносвязный-256\\\n",
        " Полносвязный-2'\n",
        "\n",
        "# Создание модели нейронной сети\n",
        "demo_ai.create_model(layers)\n",
        "\n",
        "# Обучение нейронной сети\n",
        "demo_ai.train_model(epochs=150)"
      ],
      "metadata": {
        "colab": {
          "base_uri": "https://localhost:8080/",
          "height": 1000
        },
        "id": "0WLUcobfG3y5",
        "outputId": "a3b4c74a-6759-4d71-ff2c-b9af41d7b5f8"
      },
      "execution_count": null,
      "outputs": [
        {
          "output_type": "stream",
          "name": "stdout",
          "text": [
            "Эпоха 1   Время обучения: 0.6c     Точность на обучающей выборке: \u001b[94m51.0%\u001b[0m     Точность на проверочной выборке: \u001b[94m60.61%\u001b[0m\n",
            "Эпоха 2   Время обучения: 0.1c     Точность на обучающей выборке: \u001b[94m53.8%\u001b[0m     Точность на проверочной выборке: \u001b[94m59.47%\u001b[0m\n",
            "Эпоха 3   Время обучения: 0.1c     Точность на обучающей выборке: \u001b[94m56.2%\u001b[0m     Точность на проверочной выборке: \u001b[94m60.23%\u001b[0m\n",
            "Эпоха 4   Время обучения: 0.1c     Точность на обучающей выборке: \u001b[94m59.4%\u001b[0m     Точность на проверочной выборке: \u001b[94m62.12%\u001b[0m\n",
            "Эпоха 5   Время обучения: 0.1c     Точность на обучающей выборке: \u001b[94m60.6%\u001b[0m     Точность на проверочной выборке: \u001b[94m64.77%\u001b[0m\n",
            "Эпоха 6   Время обучения: 0.1c     Точность на обучающей выборке: \u001b[94m62.2%\u001b[0m     Точность на проверочной выборке: \u001b[94m65.91%\u001b[0m\n",
            "Эпоха 7   Время обучения: 0.1c     Точность на обучающей выборке: \u001b[94m64.4%\u001b[0m     Точность на проверочной выборке: \u001b[94m67.8%\u001b[0m\n",
            "Эпоха 8   Время обучения: 0.1c     Точность на обучающей выборке: \u001b[94m66.4%\u001b[0m     Точность на проверочной выборке: \u001b[94m70.08%\u001b[0m\n",
            "Эпоха 9   Время обучения: 0.1c     Точность на обучающей выборке: \u001b[94m68.4%\u001b[0m     Точность на проверочной выборке: \u001b[94m69.32%\u001b[0m\n",
            "Эпоха 10  Время обучения: 0.1c     Точность на обучающей выборке: \u001b[94m71.6%\u001b[0m     Точность на проверочной выборке: \u001b[94m70.83%\u001b[0m\n",
            "Эпоха 11  Время обучения: 0.1c     Точность на обучающей выборке: \u001b[94m73.6%\u001b[0m     Точность на проверочной выборке: \u001b[94m71.59%\u001b[0m\n",
            "Эпоха 12  Время обучения: 0.1c     Точность на обучающей выборке: \u001b[94m73.4%\u001b[0m     Точность на проверочной выборке: \u001b[94m72.73%\u001b[0m\n",
            "Эпоха 13  Время обучения: 0.1c     Точность на обучающей выборке: \u001b[94m75.6%\u001b[0m     Точность на проверочной выборке: \u001b[94m74.24%\u001b[0m\n",
            "Эпоха 14  Время обучения: 0.1c     Точность на обучающей выборке: \u001b[94m76.4%\u001b[0m     Точность на проверочной выборке: \u001b[94m75.38%\u001b[0m\n",
            "Эпоха 15  Время обучения: 0.1c     Точность на обучающей выборке: \u001b[94m76.8%\u001b[0m     Точность на проверочной выборке: \u001b[94m75.38%\u001b[0m\n",
            "Эпоха 16  Время обучения: 0.1c     Точность на обучающей выборке: \u001b[94m78.6%\u001b[0m     Точность на проверочной выборке: \u001b[94m76.89%\u001b[0m\n",
            "Эпоха 17  Время обучения: 0.1c     Точность на обучающей выборке: \u001b[94m80.2%\u001b[0m     Точность на проверочной выборке: \u001b[94m76.52%\u001b[0m\n",
            "Эпоха 18  Время обучения: 0.1c     Точность на обучающей выборке: \u001b[94m79.4%\u001b[0m     Точность на проверочной выборке: \u001b[94m76.52%\u001b[0m\n",
            "Эпоха 19  Время обучения: 0.1c     Точность на обучающей выборке: \u001b[94m80.0%\u001b[0m     Точность на проверочной выборке: \u001b[94m75.76%\u001b[0m\n",
            "Эпоха 20  Время обучения: 0.1c     Точность на обучающей выборке: \u001b[94m81.0%\u001b[0m     Точность на проверочной выборке: \u001b[94m78.03%\u001b[0m\n",
            "Эпоха 21  Время обучения: 0.1c     Точность на обучающей выборке: \u001b[94m81.0%\u001b[0m     Точность на проверочной выборке: \u001b[94m78.79%\u001b[0m\n",
            "Эпоха 22  Время обучения: 0.1c     Точность на обучающей выборке: \u001b[94m82.0%\u001b[0m     Точность на проверочной выборке: \u001b[94m78.79%\u001b[0m\n",
            "Эпоха 23  Время обучения: 0.1c     Точность на обучающей выборке: \u001b[94m83.0%\u001b[0m     Точность на проверочной выборке: \u001b[94m78.03%\u001b[0m\n",
            "Эпоха 24  Время обучения: 0.1c     Точность на обучающей выборке: \u001b[94m82.0%\u001b[0m     Точность на проверочной выборке: \u001b[94m78.79%\u001b[0m\n",
            "Эпоха 25  Время обучения: 0.1c     Точность на обучающей выборке: \u001b[94m82.2%\u001b[0m     Точность на проверочной выборке: \u001b[94m79.92%\u001b[0m\n",
            "Эпоха 26  Время обучения: 0.1c     Точность на обучающей выборке: \u001b[94m83.2%\u001b[0m     Точность на проверочной выборке: \u001b[94m79.17%\u001b[0m\n",
            "Эпоха 27  Время обучения: 0.1c     Точность на обучающей выборке: \u001b[94m84.0%\u001b[0m     Точность на проверочной выборке: \u001b[94m80.3%\u001b[0m\n",
            "Эпоха 28  Время обучения: 0.1c     Точность на обучающей выборке: \u001b[94m84.2%\u001b[0m     Точность на проверочной выборке: \u001b[94m79.17%\u001b[0m\n",
            "Эпоха 29  Время обучения: 0.1c     Точность на обучающей выборке: \u001b[94m84.4%\u001b[0m     Точность на проверочной выборке: \u001b[94m79.17%\u001b[0m\n",
            "Эпоха 30  Время обучения: 0.1c     Точность на обучающей выборке: \u001b[94m83.8%\u001b[0m     Точность на проверочной выборке: \u001b[94m79.17%\u001b[0m\n",
            "Эпоха 31  Время обучения: 0.1c     Точность на обучающей выборке: \u001b[94m84.8%\u001b[0m     Точность на проверочной выборке: \u001b[94m79.92%\u001b[0m\n",
            "Эпоха 32  Время обучения: 0.1c     Точность на обучающей выборке: \u001b[94m84.4%\u001b[0m     Точность на проверочной выборке: \u001b[94m80.68%\u001b[0m\n",
            "Эпоха 33  Время обучения: 0.1c     Точность на обучающей выборке: \u001b[94m84.6%\u001b[0m     Точность на проверочной выборке: \u001b[94m80.68%\u001b[0m\n",
            "Эпоха 34  Время обучения: 0.1c     Точность на обучающей выборке: \u001b[94m84.2%\u001b[0m     Точность на проверочной выборке: \u001b[94m80.68%\u001b[0m\n",
            "Эпоха 35  Время обучения: 0.1c     Точность на обучающей выборке: \u001b[94m85.8%\u001b[0m     Точность на проверочной выборке: \u001b[94m81.44%\u001b[0m\n",
            "Эпоха 36  Время обучения: 0.1c     Точность на обучающей выборке: \u001b[94m86.0%\u001b[0m     Точность на проверочной выборке: \u001b[94m81.06%\u001b[0m\n",
            "Эпоха 37  Время обучения: 0.1c     Точность на обучающей выборке: \u001b[94m86.0%\u001b[0m     Точность на проверочной выборке: \u001b[94m81.44%\u001b[0m\n",
            "Эпоха 38  Время обучения: 0.1c     Точность на обучающей выборке: \u001b[94m86.2%\u001b[0m     Точность на проверочной выборке: \u001b[94m81.44%\u001b[0m\n",
            "Эпоха 39  Время обучения: 0.1c     Точность на обучающей выборке: \u001b[94m85.8%\u001b[0m     Точность на проверочной выборке: \u001b[94m81.82%\u001b[0m\n",
            "Эпоха 40  Время обучения: 0.1c     Точность на обучающей выборке: \u001b[94m86.6%\u001b[0m     Точность на проверочной выборке: \u001b[94m82.2%\u001b[0m\n",
            "Эпоха 41  Время обучения: 0.1c     Точность на обучающей выборке: \u001b[94m86.8%\u001b[0m     Точность на проверочной выборке: \u001b[94m82.58%\u001b[0m\n",
            "Эпоха 42  Время обучения: 0.1c     Точность на обучающей выборке: \u001b[94m86.2%\u001b[0m     Точность на проверочной выборке: \u001b[94m82.2%\u001b[0m\n",
            "Эпоха 43  Время обучения: 0.1c     Точность на обучающей выборке: \u001b[94m87.2%\u001b[0m     Точность на проверочной выборке: \u001b[94m83.33%\u001b[0m\n",
            "Эпоха 44  Время обучения: 0.1c     Точность на обучающей выборке: \u001b[94m87.6%\u001b[0m     Точность на проверочной выборке: \u001b[94m82.2%\u001b[0m\n",
            "Эпоха 45  Время обучения: 0.1c     Точность на обучающей выборке: \u001b[94m87.6%\u001b[0m     Точность на проверочной выборке: \u001b[94m83.33%\u001b[0m\n",
            "Эпоха 46  Время обучения: 0.1c     Точность на обучающей выборке: \u001b[94m87.8%\u001b[0m     Точность на проверочной выборке: \u001b[94m83.71%\u001b[0m\n",
            "Эпоха 47  Время обучения: 0.1c     Точность на обучающей выборке: \u001b[94m88.0%\u001b[0m     Точность на проверочной выборке: \u001b[94m83.33%\u001b[0m\n",
            "Эпоха 48  Время обучения: 0.1c     Точность на обучающей выборке: \u001b[94m88.0%\u001b[0m     Точность на проверочной выборке: \u001b[94m83.71%\u001b[0m\n",
            "Эпоха 49  Время обучения: 0.1c     Точность на обучающей выборке: \u001b[94m88.6%\u001b[0m     Точность на проверочной выборке: \u001b[94m83.33%\u001b[0m\n",
            "Эпоха 50  Время обучения: 0.1c     Точность на обучающей выборке: \u001b[94m88.4%\u001b[0m     Точность на проверочной выборке: \u001b[94m83.71%\u001b[0m\n",
            "Эпоха 51  Время обучения: 0.1c     Точность на обучающей выборке: \u001b[94m88.6%\u001b[0m     Точность на проверочной выборке: \u001b[94m83.71%\u001b[0m\n",
            "Эпоха 52  Время обучения: 0.1c     Точность на обучающей выборке: \u001b[94m88.2%\u001b[0m     Точность на проверочной выборке: \u001b[94m83.71%\u001b[0m\n",
            "Эпоха 53  Время обучения: 0.1c     Точность на обучающей выборке: \u001b[94m88.6%\u001b[0m     Точность на проверочной выборке: \u001b[94m83.71%\u001b[0m\n",
            "Эпоха 54  Время обучения: 0.1c     Точность на обучающей выборке: \u001b[94m89.2%\u001b[0m     Точность на проверочной выборке: \u001b[94m83.71%\u001b[0m\n",
            "Эпоха 55  Время обучения: 0.1c     Точность на обучающей выборке: \u001b[94m88.4%\u001b[0m     Точность на проверочной выборке: \u001b[94m83.71%\u001b[0m\n",
            "Эпоха 56  Время обучения: 0.1c     Точность на обучающей выборке: \u001b[94m89.2%\u001b[0m     Точность на проверочной выборке: \u001b[94m83.71%\u001b[0m\n",
            "Эпоха 57  Время обучения: 0.1c     Точность на обучающей выборке: \u001b[94m89.4%\u001b[0m     Точность на проверочной выборке: \u001b[94m84.47%\u001b[0m\n",
            "Эпоха 58  Время обучения: 0.1c     Точность на обучающей выборке: \u001b[94m90.2%\u001b[0m     Точность на проверочной выборке: \u001b[94m83.71%\u001b[0m\n",
            "Эпоха 59  Время обучения: 0.1c     Точность на обучающей выборке: \u001b[94m90.2%\u001b[0m     Точность на проверочной выборке: \u001b[94m84.09%\u001b[0m\n",
            "Эпоха 60  Время обучения: 0.1c     Точность на обучающей выборке: \u001b[94m89.6%\u001b[0m     Точность на проверочной выборке: \u001b[94m84.47%\u001b[0m\n",
            "Эпоха 61  Время обучения: 0.1c     Точность на обучающей выборке: \u001b[94m90.6%\u001b[0m     Точность на проверочной выборке: \u001b[94m84.09%\u001b[0m\n",
            "Эпоха 62  Время обучения: 0.1c     Точность на обучающей выборке: \u001b[94m90.4%\u001b[0m     Точность на проверочной выборке: \u001b[94m84.85%\u001b[0m\n",
            "Эпоха 63  Время обучения: 0.1c     Точность на обучающей выборке: \u001b[94m90.8%\u001b[0m     Точность на проверочной выборке: \u001b[94m85.23%\u001b[0m\n",
            "Эпоха 64  Время обучения: 0.1c     Точность на обучающей выборке: \u001b[94m90.6%\u001b[0m     Точность на проверочной выборке: \u001b[94m84.85%\u001b[0m\n",
            "Эпоха 65  Время обучения: 0.1c     Точность на обучающей выборке: \u001b[94m91.2%\u001b[0m     Точность на проверочной выборке: \u001b[94m84.85%\u001b[0m\n",
            "Эпоха 66  Время обучения: 0.1c     Точность на обучающей выборке: \u001b[94m91.0%\u001b[0m     Точность на проверочной выборке: \u001b[94m84.85%\u001b[0m\n",
            "Эпоха 67  Время обучения: 0.1c     Точность на обучающей выборке: \u001b[94m91.2%\u001b[0m     Точность на проверочной выборке: \u001b[94m85.23%\u001b[0m\n",
            "Эпоха 68  Время обучения: 0.1c     Точность на обучающей выборке: \u001b[94m90.8%\u001b[0m     Точность на проверочной выборке: \u001b[94m84.85%\u001b[0m\n",
            "Эпоха 69  Время обучения: 0.1c     Точность на обучающей выборке: \u001b[94m91.4%\u001b[0m     Точность на проверочной выборке: \u001b[94m84.09%\u001b[0m\n",
            "Эпоха 70  Время обучения: 0.1c     Точность на обучающей выборке: \u001b[94m91.2%\u001b[0m     Точность на проверочной выборке: \u001b[94m85.61%\u001b[0m\n",
            "Эпоха 71  Время обучения: 0.1c     Точность на обучающей выборке: \u001b[94m91.6%\u001b[0m     Точность на проверочной выборке: \u001b[94m83.71%\u001b[0m\n",
            "Эпоха 72  Время обучения: 0.1c     Точность на обучающей выборке: \u001b[94m91.2%\u001b[0m     Точность на проверочной выборке: \u001b[94m85.23%\u001b[0m\n",
            "Эпоха 73  Время обучения: 0.1c     Точность на обучающей выборке: \u001b[94m91.4%\u001b[0m     Точность на проверочной выборке: \u001b[94m85.61%\u001b[0m\n",
            "Эпоха 74  Время обучения: 0.1c     Точность на обучающей выборке: \u001b[94m91.4%\u001b[0m     Точность на проверочной выборке: \u001b[94m84.09%\u001b[0m\n",
            "Эпоха 75  Время обучения: 0.1c     Точность на обучающей выборке: \u001b[94m91.8%\u001b[0m     Точность на проверочной выборке: \u001b[94m85.61%\u001b[0m\n",
            "Эпоха 76  Время обучения: 0.1c     Точность на обучающей выборке: \u001b[94m91.6%\u001b[0m     Точность на проверочной выборке: \u001b[94m84.85%\u001b[0m\n",
            "Эпоха 77  Время обучения: 0.1c     Точность на обучающей выборке: \u001b[94m91.6%\u001b[0m     Точность на проверочной выборке: \u001b[94m85.61%\u001b[0m\n",
            "Эпоха 78  Время обучения: 0.1c     Точность на обучающей выборке: \u001b[94m92.0%\u001b[0m     Точность на проверочной выборке: \u001b[94m84.85%\u001b[0m\n",
            "Эпоха 79  Время обучения: 0.1c     Точность на обучающей выборке: \u001b[94m92.2%\u001b[0m     Точность на проверочной выборке: \u001b[94m84.47%\u001b[0m\n",
            "Эпоха 80  Время обучения: 0.1c     Точность на обучающей выборке: \u001b[94m91.8%\u001b[0m     Точность на проверочной выборке: \u001b[94m84.85%\u001b[0m\n",
            "Эпоха 81  Время обучения: 0.1c     Точность на обучающей выборке: \u001b[94m92.2%\u001b[0m     Точность на проверочной выборке: \u001b[94m85.98%\u001b[0m\n",
            "Эпоха 82  Время обучения: 0.1c     Точность на обучающей выборке: \u001b[94m91.8%\u001b[0m     Точность на проверочной выборке: \u001b[94m84.47%\u001b[0m\n",
            "Эпоха 83  Время обучения: 0.1c     Точность на обучающей выборке: \u001b[94m92.2%\u001b[0m     Точность на проверочной выборке: \u001b[94m85.61%\u001b[0m\n",
            "Эпоха 84  Время обучения: 0.1c     Точность на обучающей выборке: \u001b[94m92.4%\u001b[0m     Точность на проверочной выборке: \u001b[94m84.85%\u001b[0m\n",
            "Эпоха 85  Время обучения: 0.1c     Точность на обучающей выборке: \u001b[94m92.2%\u001b[0m     Точность на проверочной выборке: \u001b[94m84.85%\u001b[0m\n",
            "Эпоха 86  Время обучения: 0.1c     Точность на обучающей выборке: \u001b[94m92.4%\u001b[0m     Точность на проверочной выборке: \u001b[94m85.23%\u001b[0m\n",
            "Эпоха 87  Время обучения: 0.1c     Точность на обучающей выборке: \u001b[94m92.6%\u001b[0m     Точность на проверочной выборке: \u001b[94m85.23%\u001b[0m\n",
            "Эпоха 88  Время обучения: 0.1c     Точность на обучающей выборке: \u001b[94m92.6%\u001b[0m     Точность на проверочной выборке: \u001b[94m85.61%\u001b[0m\n",
            "Эпоха 89  Время обучения: 0.1c     Точность на обучающей выборке: \u001b[94m92.6%\u001b[0m     Точность на проверочной выборке: \u001b[94m85.98%\u001b[0m\n",
            "Эпоха 90  Время обучения: 0.1c     Точность на обучающей выборке: \u001b[94m92.8%\u001b[0m     Точность на проверочной выборке: \u001b[94m85.23%\u001b[0m\n",
            "Эпоха 91  Время обучения: 0.1c     Точность на обучающей выборке: \u001b[94m93.0%\u001b[0m     Точность на проверочной выборке: \u001b[94m85.61%\u001b[0m\n",
            "Эпоха 92  Время обучения: 0.1c     Точность на обучающей выборке: \u001b[94m92.6%\u001b[0m     Точность на проверочной выборке: \u001b[94m85.61%\u001b[0m\n",
            "Эпоха 93  Время обучения: 0.1c     Точность на обучающей выборке: \u001b[94m92.6%\u001b[0m     Точность на проверочной выборке: \u001b[94m85.61%\u001b[0m\n",
            "Эпоха 94  Время обучения: 0.1c     Точность на обучающей выборке: \u001b[94m92.8%\u001b[0m     Точность на проверочной выборке: \u001b[94m86.36%\u001b[0m\n",
            "Эпоха 95  Время обучения: 0.1c     Точность на обучающей выборке: \u001b[94m93.0%\u001b[0m     Точность на проверочной выборке: \u001b[94m85.61%\u001b[0m\n",
            "Эпоха 96  Время обучения: 0.1c     Точность на обучающей выборке: \u001b[94m93.2%\u001b[0m     Точность на проверочной выборке: \u001b[94m85.61%\u001b[0m\n",
            "Эпоха 97  Время обучения: 0.1c     Точность на обучающей выборке: \u001b[94m93.2%\u001b[0m     Точность на проверочной выборке: \u001b[94m85.61%\u001b[0m\n",
            "Эпоха 98  Время обучения: 0.1c     Точность на обучающей выборке: \u001b[94m92.8%\u001b[0m     Точность на проверочной выборке: \u001b[94m85.61%\u001b[0m\n",
            "Эпоха 99  Время обучения: 0.1c     Точность на обучающей выборке: \u001b[94m93.2%\u001b[0m     Точность на проверочной выборке: \u001b[94m85.98%\u001b[0m\n",
            "Эпоха 100 Время обучения: 0.1c     Точность на обучающей выборке: \u001b[94m93.2%\u001b[0m     Точность на проверочной выборке: \u001b[94m85.61%\u001b[0m\n",
            "Эпоха 101 Время обучения: 0.1c     Точность на обучающей выборке: \u001b[94m93.2%\u001b[0m     Точность на проверочной выборке: \u001b[94m85.98%\u001b[0m\n",
            "Эпоха 102 Время обучения: 0.1c     Точность на обучающей выборке: \u001b[94m93.6%\u001b[0m     Точность на проверочной выборке: \u001b[94m85.98%\u001b[0m\n",
            "Эпоха 103 Время обучения: 0.1c     Точность на обучающей выборке: \u001b[94m92.8%\u001b[0m     Точность на проверочной выборке: \u001b[94m85.61%\u001b[0m\n",
            "Эпоха 104 Время обучения: 0.1c     Точность на обучающей выборке: \u001b[94m93.2%\u001b[0m     Точность на проверочной выборке: \u001b[94m85.98%\u001b[0m\n",
            "Эпоха 105 Время обучения: 0.1c     Точность на обучающей выборке: \u001b[94m93.4%\u001b[0m     Точность на проверочной выборке: \u001b[94m85.61%\u001b[0m\n",
            "Эпоха 106 Время обучения: 0.1c     Точность на обучающей выборке: \u001b[94m93.4%\u001b[0m     Точность на проверочной выборке: \u001b[94m85.61%\u001b[0m\n",
            "Эпоха 107 Время обучения: 0.1c     Точность на обучающей выборке: \u001b[94m93.8%\u001b[0m     Точность на проверочной выборке: \u001b[94m85.61%\u001b[0m\n",
            "Эпоха 108 Время обучения: 0.1c     Точность на обучающей выборке: \u001b[94m93.8%\u001b[0m     Точность на проверочной выборке: \u001b[94m85.61%\u001b[0m\n",
            "Эпоха 109 Время обучения: 0.1c     Точность на обучающей выборке: \u001b[94m93.6%\u001b[0m     Точность на проверочной выборке: \u001b[94m85.61%\u001b[0m\n",
            "Эпоха 110 Время обучения: 0.1c     Точность на обучающей выборке: \u001b[94m93.0%\u001b[0m     Точность на проверочной выборке: \u001b[94m85.61%\u001b[0m\n",
            "Эпоха 111 Время обучения: 0.1c     Точность на обучающей выборке: \u001b[94m94.0%\u001b[0m     Точность на проверочной выборке: \u001b[94m85.61%\u001b[0m\n",
            "Эпоха 112 Время обучения: 0.1c     Точность на обучающей выборке: \u001b[94m93.2%\u001b[0m     Точность на проверочной выборке: \u001b[94m85.61%\u001b[0m\n",
            "Эпоха 113 Время обучения: 0.1c     Точность на обучающей выборке: \u001b[94m94.2%\u001b[0m     Точность на проверочной выборке: \u001b[94m85.61%\u001b[0m\n",
            "Эпоха 114 Время обучения: 0.1c     Точность на обучающей выборке: \u001b[94m93.6%\u001b[0m     Точность на проверочной выборке: \u001b[94m85.61%\u001b[0m\n",
            "Эпоха 115 Время обучения: 0.1c     Точность на обучающей выборке: \u001b[94m93.6%\u001b[0m     Точность на проверочной выборке: \u001b[94m85.61%\u001b[0m\n",
            "Эпоха 116 Время обучения: 0.1c     Точность на обучающей выборке: \u001b[94m94.0%\u001b[0m     Точность на проверочной выборке: \u001b[94m85.61%\u001b[0m\n",
            "Эпоха 117 Время обучения: 0.1c     Точность на обучающей выборке: \u001b[94m93.8%\u001b[0m     Точность на проверочной выборке: \u001b[94m85.61%\u001b[0m\n",
            "Эпоха 118 Время обучения: 0.1c     Точность на обучающей выборке: \u001b[94m93.8%\u001b[0m     Точность на проверочной выборке: \u001b[94m85.98%\u001b[0m\n",
            "Эпоха 119 Время обучения: 0.1c     Точность на обучающей выборке: \u001b[94m94.0%\u001b[0m     Точность на проверочной выборке: \u001b[94m85.61%\u001b[0m\n",
            "Эпоха 120 Время обучения: 0.1c     Точность на обучающей выборке: \u001b[94m93.8%\u001b[0m     Точность на проверочной выборке: \u001b[94m85.61%\u001b[0m\n",
            "Эпоха 121 Время обучения: 0.1c     Точность на обучающей выборке: \u001b[94m94.0%\u001b[0m     Точность на проверочной выборке: \u001b[94m85.61%\u001b[0m\n",
            "Эпоха 122 Время обучения: 0.1c     Точность на обучающей выборке: \u001b[94m94.2%\u001b[0m     Точность на проверочной выборке: \u001b[94m85.98%\u001b[0m\n",
            "Эпоха 123 Время обучения: 0.1c     Точность на обучающей выборке: \u001b[94m94.2%\u001b[0m     Точность на проверочной выборке: \u001b[94m86.36%\u001b[0m\n",
            "Эпоха 124 Время обучения: 0.1c     Точность на обучающей выборке: \u001b[94m94.0%\u001b[0m     Точность на проверочной выборке: \u001b[94m85.61%\u001b[0m\n",
            "Эпоха 125 Время обучения: 0.1c     Точность на обучающей выборке: \u001b[94m94.0%\u001b[0m     Точность на проверочной выборке: \u001b[94m85.98%\u001b[0m\n",
            "Эпоха 126 Время обучения: 0.1c     Точность на обучающей выборке: \u001b[94m94.2%\u001b[0m     Точность на проверочной выборке: \u001b[94m86.36%\u001b[0m\n",
            "Эпоха 127 Время обучения: 0.1c     Точность на обучающей выборке: \u001b[94m93.8%\u001b[0m     Точность на проверочной выборке: \u001b[94m85.61%\u001b[0m\n",
            "Эпоха 128 Время обучения: 0.1c     Точность на обучающей выборке: \u001b[94m93.8%\u001b[0m     Точность на проверочной выборке: \u001b[94m85.61%\u001b[0m\n",
            "Эпоха 129 Время обучения: 0.1c     Точность на обучающей выборке: \u001b[94m94.2%\u001b[0m     Точность на проверочной выборке: \u001b[94m85.98%\u001b[0m\n",
            "Эпоха 130 Время обучения: 0.1c     Точность на обучающей выборке: \u001b[94m95.0%\u001b[0m     Точность на проверочной выборке: \u001b[94m85.61%\u001b[0m\n",
            "Эпоха 131 Время обучения: 0.1c     Точность на обучающей выборке: \u001b[94m93.8%\u001b[0m     Точность на проверочной выборке: \u001b[94m86.36%\u001b[0m\n",
            "Эпоха 132 Время обучения: 0.1c     Точность на обучающей выборке: \u001b[94m94.0%\u001b[0m     Точность на проверочной выборке: \u001b[94m85.98%\u001b[0m\n",
            "Эпоха 133 Время обучения: 0.1c     Точность на обучающей выборке: \u001b[94m94.6%\u001b[0m     Точность на проверочной выборке: \u001b[94m86.74%\u001b[0m\n",
            "Эпоха 134 Время обучения: 0.1c     Точность на обучающей выборке: \u001b[94m95.0%\u001b[0m     Точность на проверочной выборке: \u001b[94m86.74%\u001b[0m\n",
            "Эпоха 135 Время обучения: 0.1c     Точность на обучающей выборке: \u001b[94m95.2%\u001b[0m     Точность на проверочной выборке: \u001b[94m87.12%\u001b[0m\n",
            "Эпоха 136 Время обучения: 0.1c     Точность на обучающей выборке: \u001b[94m95.2%\u001b[0m     Точность на проверочной выборке: \u001b[94m86.74%\u001b[0m\n",
            "Эпоха 137 Время обучения: 0.1c     Точность на обучающей выборке: \u001b[94m95.0%\u001b[0m     Точность на проверочной выборке: \u001b[94m87.12%\u001b[0m\n",
            "Эпоха 138 Время обучения: 0.1c     Точность на обучающей выборке: \u001b[94m94.8%\u001b[0m     Точность на проверочной выборке: \u001b[94m87.5%\u001b[0m\n",
            "Эпоха 139 Время обучения: 0.1c     Точность на обучающей выборке: \u001b[94m95.8%\u001b[0m     Точность на проверочной выборке: \u001b[94m87.88%\u001b[0m\n",
            "Эпоха 140 Время обучения: 0.1c     Точность на обучающей выборке: \u001b[94m94.6%\u001b[0m     Точность на проверочной выборке: \u001b[94m87.5%\u001b[0m\n",
            "Эпоха 141 Время обучения: 0.1c     Точность на обучающей выборке: \u001b[94m95.2%\u001b[0m     Точность на проверочной выборке: \u001b[94m87.88%\u001b[0m\n",
            "Эпоха 142 Время обучения: 0.1c     Точность на обучающей выборке: \u001b[94m94.8%\u001b[0m     Точность на проверочной выборке: \u001b[94m87.12%\u001b[0m\n",
            "Эпоха 143 Время обучения: 0.1c     Точность на обучающей выборке: \u001b[94m95.6%\u001b[0m     Точность на проверочной выборке: \u001b[94m87.88%\u001b[0m\n",
            "Эпоха 144 Время обучения: 0.1c     Точность на обучающей выборке: \u001b[94m95.0%\u001b[0m     Точность на проверочной выборке: \u001b[94m87.88%\u001b[0m\n",
            "Эпоха 145 Время обучения: 0.1c     Точность на обучающей выборке: \u001b[94m95.8%\u001b[0m     Точность на проверочной выборке: \u001b[94m88.26%\u001b[0m\n",
            "Эпоха 146 Время обучения: 0.1c     Точность на обучающей выборке: \u001b[94m95.0%\u001b[0m     Точность на проверочной выборке: \u001b[94m88.26%\u001b[0m\n",
            "Эпоха 147 Время обучения: 0.1c     Точность на обучающей выборке: \u001b[94m95.6%\u001b[0m     Точность на проверочной выборке: \u001b[94m87.5%\u001b[0m\n",
            "Эпоха 148 Время обучения: 0.1c     Точность на обучающей выборке: \u001b[94m94.8%\u001b[0m     Точность на проверочной выборке: \u001b[94m87.88%\u001b[0m\n",
            "\u001b[102mЭпоха 149 Время обучения: 0.1c     Точность на обучающей выборке: 96.6%     Точность на проверочной выборке: 88.64%\u001b[0m\n",
            "Эпоха 150 Время обучения: 0.1c     Точность на обучающей выборке: \u001b[94m96.6%\u001b[0m     Точность на проверочной выборке: \u001b[94m88.26%\u001b[0m\n"
          ]
        },
        {
          "output_type": "display_data",
          "data": {
            "text/plain": [
              "<Figure size 1440x1008 with 1 Axes>"
            ],
            "image/png": "[encoded data removed]"
          },
          "metadata": {
            "needs_background": "light"
          }
        }
      ]
    },
    {
      "cell_type": "code",
      "source": [
        "demo_ai.train_model_average(layers)"
      ],
      "metadata": {
        "colab": {
          "base_uri": "https://localhost:8080/",
          "height": 637
        },
        "id": "6Zh7uFisISpi",
        "outputId": "244565d9-6e05-4633-b8ff-c2deab806251"
      },
      "execution_count": null,
      "outputs": [
        {
          "output_type": "stream",
          "name": "stdout",
          "text": [
            "\u001b[1mОпределение среднего показателя точности модели на 10 запусках\u001b[0m\n",
            "\n",
            "Запуск 1  Время обучения: 13.3c    Точность на обучающей выборке: \u001b[94m96.2%\u001b[0m     Точность на проверочной выборке: \u001b[94m88.64%\u001b[0m\n",
            "Запуск 2  Время обучения: 13.2c    Точность на обучающей выборке: \u001b[94m96.2%\u001b[0m     Точность на проверочной выборке: \u001b[94m89.02%\u001b[0m\n",
            "Запуск 3  Время обучения: 13.4c    Точность на обучающей выборке: \u001b[94m96.8%\u001b[0m     Точность на проверочной выборке: \u001b[94m89.02%\u001b[0m\n",
            "Запуск 4  Время обучения: 20.9c    Точность на обучающей выборке: \u001b[94m96.6%\u001b[0m     Точность на проверочной выборке: \u001b[94m87.5%\u001b[0m\n",
            "Запуск 5  Время обучения: 13.1c    Точность на обучающей выборке: \u001b[94m96.0%\u001b[0m     Точность на проверочной выборке: \u001b[94m88.26%\u001b[0m\n",
            "Запуск 6  Время обучения: 20.8c    Точность на обучающей выборке: \u001b[94m96.2%\u001b[0m     Точность на проверочной выборке: \u001b[94m87.88%\u001b[0m\n",
            "Запуск 7  Время обучения: 13.4c    Точность на обучающей выборке: \u001b[94m95.8%\u001b[0m     Точность на проверочной выборке: \u001b[94m87.88%\u001b[0m\n",
            "Запуск 8  Время обучения: 13.2c    Точность на обучающей выборке: \u001b[94m96.0%\u001b[0m     Точность на проверочной выборке: \u001b[94m87.12%\u001b[0m\n",
            "Запуск 9  Время обучения: 20.9c    Точность на обучающей выборке: \u001b[94m96.6%\u001b[0m     Точность на проверочной выборке: \u001b[94m88.26%\u001b[0m\n",
            "\u001b[102mЗапуск 10 Время обучения: 13.1c    Точность на обучающей выборке: 96.4%     Точность на проверочной выборке: 89.39%\u001b[0m\n"
          ]
        },
        {
          "output_type": "display_data",
          "data": {
            "text/plain": [
              "<Figure size 1008x432 with 1 Axes>"
            ],
            "image/png": "[encoded data removed]"
          },
          "metadata": {
            "needs_background": "light"
          }
        },
        {
          "output_type": "stream",
          "name": "stdout",
          "text": [
            "\n",
            "\u001b[1mСредняя точность на обучающей выборке: \u001b[0m96.4%\n",
            "\u001b[1mСредняя точность на проверочной выборке: \u001b[0m89.39%\n"
          ]
        }
      ]
    },
    {
      "cell_type": "code",
      "source": [
        "# Демонстрация результата работы нейронной сети\n",
        "demo_ai.test_model()"
      ],
      "metadata": {
        "colab": {
          "base_uri": "https://localhost:8080/"
        },
        "id": "ZYT2-6NhG9W5",
        "outputId": "8988a967-2325-47d4-f871-01ca0bd4c23f"
      },
      "execution_count": null,
      "outputs": [
        {
          "output_type": "stream",
          "name": "stdout",
          "text": [
            "\u001b[1mТестирование модели на случайном примере тестовой выборки: \u001b[0m\n",
            "\n",
            "Тестовое резюме:\n",
            "\n",
            "Пол:                         М\n",
            "Возраст:                     26\n",
            "Город:                       Москва\n",
            "Готовность к переезду:       не готов к переезду\n",
            "Готовность к командировкам:  готов к командировкам\n",
            "Гражданство:                 Россия\n",
            "Разрешение на работу:        Великобритания, Россия\n",
            "Знания языков:               Русский Английский\n",
            "Образование:                 Высшее образование\n",
            "Дополнительное образование:  Данные не указаны\n",
            "Зарплата:                    100000.0\n",
            "Время в пути до работы:      не более часа\n",
            "Занятость:                   полная занятость\n",
            "График:                      полный день\n",
            "Опыт работы (мес):           63\n",
            "Обязанности на пред.работе:  Providing financial solutions for EU countries + UKInformational support and support at the stage of\n",
            "                              opening an accountClients consulting on the use of our products and servicesLinkedin professional, \n",
            "                             Management Consultancy within the Pharma and Biotech Sector committed to bring long-term value throu\n",
            "                             gh strategy meetings, innovation spotlight sessions and one-of-a-kind collaborative experiences for \n",
            "                             the modern decision-makers around the world.Collaboration with VP’s and SVP’s of top 100 Biotech com\n",
            "                             paniesBio- manufacturing and Cell & Gene Divisions (USA), • Operating conferences in Oil & Gas, Ener\n",
            "\n",
            "Модель уверена, что кандидат подходит в УИИ на: 95.51%\n",
            "---------------------------------------------------------------\n",
            "Подходит ли кандидат на самом деле:  да\n",
            "---------------------------------------------------------------\n",
            "\n",
            "Тестовое резюме:\n",
            "\n",
            "Пол:                         Ж\n",
            "Возраст:                     0\n",
            "Город:                       Воронеж\n",
            "Готовность к переезду:       не готов к переезду\n",
            "Готовность к командировкам:  не готов к командировкам\n",
            "Гражданство:                 Россия\n",
            "Разрешение на работу:        Россия\n",
            "Знания языков:               Русский Английский Немецкий Французский\n",
            "Образование:                 Высшее образование\n",
            "Дополнительное образование:  Данные не указаны\n",
            "Зарплата:                    15000.0\n",
            "Время в пути до работы:      не имеет значения\n",
            "Занятость:                   частичная занятость, полная занятость\n",
            "График:                      удаленная работа, гибкий график, полный день, сменный график\n",
            "Опыт работы (мес):           150\n",
            "Обязанности на пред.работе:  Организация и продвижения товара, расширение клиентской базы, сотрудничество с клиентами. Грам.речь,\n",
            "                              хорош.дикция, ведение деловых и телефонных переговоров, коммуникаб.\n",
            "\n",
            "Модель уверена, что кандидат подходит в УИИ на: 2.8%\n",
            "---------------------------------------------------------------\n",
            "Подходит ли кандидат на самом деле:  нет\n",
            "---------------------------------------------------------------\n",
            "\n",
            "Тестовое резюме:\n",
            "\n",
            "Пол:                         М\n",
            "Возраст:                     36\n",
            "Город:                       Москва\n",
            "Готовность к переезду:       не готов к переезду\n",
            "Готовность к командировкам:  не готов к командировкам\n",
            "Гражданство:                 Россия\n",
            "Разрешение на работу:        Россия\n",
            "Знания языков:               Русский\n",
            "Образование:                 Высшее образование\n",
            "Дополнительное образование:  Данные не указаны\n",
            "Зарплата:                    40000.0\n",
            "Время в пути до работы:      не более часа\n",
            "Занятость:                   полная занятость\n",
            "График:                      полный день\n",
            "Опыт работы (мес):           127\n",
            "Обязанности на пред.работе:  Раскладка товара, касса, Работа с юридическими лицами, отчеты, переписка, Комплектация товаров, рабо\n",
            "                             та на кассе, выкладка товаров, Составление отчетов, ввод данных по продажам, Продажа и консультирова\n",
            "                             ние клиентов по продаже мобильных телефонов и услуг\n",
            "\n",
            "Модель уверена, что кандидат подходит в УИИ на: 7.05%\n",
            "---------------------------------------------------------------\n",
            "Подходит ли кандидат на самом деле:  нет\n",
            "---------------------------------------------------------------\n",
            "\n"
          ]
        }
      ]
    }
  ],
  "metadata": {
    "accelerator": "GPU",
    "colab": {
      "provenance": [],
      "include_colab_link": true
    },
    "kernelspec": {
      "display_name": "Python 3",
      "name": "python3"
    }
  },
  "nbformat": 4,
  "nbformat_minor": 0
}