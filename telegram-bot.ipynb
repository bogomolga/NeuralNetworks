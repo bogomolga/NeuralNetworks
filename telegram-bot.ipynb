{
  "nbformat": 4,
  "nbformat_minor": 0,
  "metadata": {
    "colab": {
      "provenance": [],
      "include_colab_link": true
    },
    "kernelspec": {
      "name": "python3",
      "display_name": "Python 3"
    },
    "language_info": {
      "name": "python"
    }
  },
  "cells": [
    {
      "cell_type": "markdown",
      "metadata": {
        "id": "view-in-github",
        "colab_type": "text"
      },
      "source": [
        "<a href=\"https://colab.research.google.com/github/bogomolga/NeuralNetworks/blob/main/telegram-bot.ipynb\" target=\"_parent\"><img src=\"https://colab.research.google.com/assets/colab-badge.svg\" alt=\"Open In Colab\"/></a>"
      ]
    },
    {
      "cell_type": "markdown",
      "source": [
        "## Телеграм-бот"
      ],
      "metadata": {
        "id": "ZaupVgy5Lh8v"
      }
    },
    {
      "cell_type": "markdown",
      "source": [
        "Телеграм-боты представляют собой автоматизированные аккаунты в мессенджере Telegram, которые могут выполнять различные задачи и предоставлять пользователю информацию или услуги. Создание телеграм-бота включает несколько шагов:\n",
        "\n",
        "1. Создание аккаунта и получение API-ключа:\n",
        "   - Зарегистрируйтесь в Telegram, если у вас еще нет аккаунта.\n",
        "   - Перейдите на официальный сайт Telegram Bot API (https://core.telegram.org/bots) и пройдите процесс создания нового бота, следуя инструкциям ([@BotFather](https://t.me/botfather)).\n",
        "   - После завершения создания бота вы получите уникальный токен (API-ключ), который понадобится для взаимодействия с вашим ботом.\n",
        "\n",
        "2. Настройка бота:\n",
        "   - Откройте приложение Telegram и найдите созданного вами бота по его имени.\n",
        "   - Нажмите на бота и нажмите кнопку \"Start\" или отправьте ему команду /start, чтобы активировать бота.\n",
        "   - Это позволит вашему боту получать и обрабатывать сообщения от пользователей.\n",
        "\n",
        "3. Разработка функционала бота:\n",
        "   - Выберите язык программирования, на котором вы хотите создать телеграм-бота. Для разработки телеграм-ботов доступны различные языки, такие как Python, JavaScript, Java и др.\n",
        "   - Используйте Telegram Bot API для взаимодействия с вашим ботом. API предоставляет различные методы для отправки сообщений, обработки команд, получения информации о пользователях и других операций.\n",
        "   - Реализуйте функционал, который вы хотите добавить в вашего бота. Например, это может быть автоответчик, рассылка новостей, игровые функции и многое другое.\n",
        "\n",
        "4. Развертывание бота:\n",
        "   - В зависимости от выбранного языка программирования и платформы для разработки, вам потребуется развернуть ваш бот на хостинге или сервере.\n",
        "   - Создайте проект или приложение, которое будет хостить ваш бот.\n",
        "   - Укажите в настройках проекта API-ключ, который вы получили на первом шаге.\n",
        "   - Настройте вебхук (Webhook) для вашего бота, чтобы Telegram мог отправлять входящие сообщения на ваш сервер. В альтернативу вебхуку можно использовать метод Long Polling, но вебхук предпочтительнее для более быстрой и эффективной работы"
      ],
      "metadata": {
        "id": "5p_k9LOBn5SD"
      }
    },
    {
      "cell_type": "code",
      "source": [
        "token = ''"
      ],
      "metadata": {
        "id": "phYcQiELt1WQ"
      },
      "execution_count": null,
      "outputs": []
    },
    {
      "cell_type": "code",
      "source": [
        "botTimeWeb = telebot.TeleBot(token)"
      ],
      "metadata": {
        "id": "JX3xessIv53F"
      },
      "execution_count": null,
      "outputs": []
    },
    {
      "cell_type": "code",
      "source": [
        "@botTimeWeb.message_handler(func=lambda message: True)\n",
        "def handle_message(message):\n",
        "    print(f'Поступил вопрос от пользователя: {message.text}')\n",
        "    answer = gpt.answer_index(\n",
        "        marketing_chat_promt,\n",
        "        message.text,\n",
        "        marketing_index\n",
        "    )\n",
        "    botTimeWeb.reply_to(message, f\"Ответ на Ваш вопрос: \\n\\n {answer}\")"
      ],
      "metadata": {
        "id": "0RVZ7XWkwgKP"
      },
      "execution_count": null,
      "outputs": []
    },
    {
      "cell_type": "code",
      "source": [
        "botTimeWeb.infinity_polling()"
      ],
      "metadata": {
        "colab": {
          "base_uri": "https://localhost:8080/"
        },
        "id": "K2aTbNsgwu60",
        "outputId": "ac3410c4-5e62-47a5-abca-1a45ddc6270d"
      },
      "execution_count": null,
      "outputs": [
        {
          "output_type": "stream",
          "name": "stdout",
          "text": [
            "Поступил вопрос от пользователя: привет\n",
            "Поступил вопрос от пользователя: расскажи о пользе самогона\n",
            "Поступил вопрос от пользователя: Расскажи о стажировках\n",
            "Поступил вопрос от пользователя: /start\n",
            "Поступил вопрос от пользователя: /start\n",
            "Поступил вопрос от пользователя: расскажи о тарифах\n",
            "Поступил вопрос от пользователя: что за коллаб?\n"
          ]
        },
        {
          "output_type": "stream",
          "name": "stderr",
          "text": [
            "2023-06-13 16:38:22,693 (__init__.py:966 MainThread) ERROR - TeleBot: \"Infinity polling: polling exited\"\n",
            "ERROR:TeleBot:Infinity polling: polling exited\n",
            "2023-06-13 16:38:22,696 (__init__.py:968 MainThread) ERROR - TeleBot: \"Break infinity polling\"\n",
            "ERROR:TeleBot:Break infinity polling\n"
          ]
        }
      ]
    },
    {
      "cell_type": "code",
      "source": [],
      "metadata": {
        "id": "yhcwO-pfnjJT"
      },
      "execution_count": null,
      "outputs": []
    }
  ]
}